{
 "cells": [
  {
   "cell_type": "markdown",
   "metadata": {},
   "source": [
    "<img src=\"https://nserc-hi-am.ca/2020/wp-content/uploads/sites/18/2019/12/McGill.png\" width=\"500\" height=\"400\" align=\"center\">"
   ]
  },
  {
   "cell_type": "markdown",
   "metadata": {},
   "source": [
    "# Group Project\n",
    "#### Arnaud Guzman-Annès | ID: 260882529\n",
    "#### Ram Babu | ID: 260958970\n",
    "#### Sophie Courtemanche-Martel | ID: 260743568\n",
    "#### Duncan Wang | ID: 260710229\n",
    "#### Jules Zielinski | ID: XXXXXXX\n",
    "<br><br>\n",
    "**Date: February 22nd, 2021**\n",
    "<br><br>\n",
    "## Objective:\n",
    "\n",
    "TED talks are video recordings of influential talks given at and hosted by TED Conferences LLC. TED was founded in 1984, and has since built a reputation for spreading inspiring powerful ideas in fields ranging from tech to science to education, with its videos having garnered over 1 billion views to date.\n",
    "\n",
    "The goal of this project is to use various features associated with TED talks -- such as the topic, speaker, conference year, and length of the talk -- to predict the number of views a TED talk may receive.\n"
   ]
  },
  {
   "cell_type": "markdown",
   "metadata": {},
   "source": [
    "# I - Data preprocessing\n",
    "\n",
    "## Setup\n",
    "\n",
    "First, let's import a few common modules, ensure MatplotLib plots figures inline and prepare a function to save the figures. We also check that Python 3.5 or later is installed as well as Scikit-Learn (V ≥0.20)."
   ]
  },
  {
   "cell_type": "code",
   "execution_count": 123,
   "metadata": {
    "execution": {
     "iopub.execute_input": "2021-02-16T02:24:45.468646Z",
     "iopub.status.busy": "2021-02-16T02:24:45.465965Z",
     "iopub.status.idle": "2021-02-16T02:24:45.602423Z",
     "shell.execute_reply": "2021-02-16T02:24:45.601579Z",
     "shell.execute_reply.started": "2021-02-16T02:24:45.468557Z"
    }
   },
   "outputs": [],
   "source": [
    "# Python ≥3.5 is required\n",
    "import sys\n",
    "assert sys.version_info >= (3, 5)\n",
    "\n",
    "# Scikit-Learn ≥0.20 is required\n",
    "import sklearn\n",
    "assert sklearn.__version__ >= \"0.20\"\n",
    "\n",
    "# Common imports\n",
    "import numpy as np\n",
    "import os\n",
    "\n",
    "# To plot pretty figures\n",
    "%matplotlib inline\n",
    "import matplotlib as mpl\n",
    "import matplotlib.pyplot as plt\n",
    "mpl.rc('axes', labelsize=14)\n",
    "mpl.rc('xtick', labelsize=12)\n",
    "mpl.rc('ytick', labelsize=12)\n",
    "\n",
    "# Where to save the figures\n",
    "PROJECT_ROOT_DIR = \".\"\n",
    "CHAPTER_ID = \"end_to_end_project\"\n",
    "IMAGES_PATH = os.path.join(PROJECT_ROOT_DIR, \"images\", CHAPTER_ID)\n",
    "os.makedirs(IMAGES_PATH, exist_ok=True)\n",
    "\n",
    "def save_fig(fig_id, tight_layout=True, fig_extension=\"png\", resolution=300):\n",
    "    path = os.path.join(IMAGES_PATH, fig_id + \".\" + fig_extension)\n",
    "    print(\"Saving figure\", fig_id)\n",
    "    if tight_layout:\n",
    "        plt.tight_layout()\n",
    "    plt.savefig(path, format=fig_extension, dpi=resolution)\n",
    "\n",
    "# Ignore useless warnings (see SciPy issue #5998)\n",
    "import warnings\n",
    "warnings.filterwarnings(action=\"ignore\", message=\"^internal gelsd\")\n",
    "pd.options.mode.chained_assignment = None  # default='warn'\n",
    "\n",
    "#display all columns\n",
    "pd.set_option('display.max_columns', None)"
   ]
  },
  {
   "cell_type": "markdown",
   "metadata": {},
   "source": [
    "# Get the data\n",
    "\n",
    "## From GitHub repository"
   ]
  },
  {
   "cell_type": "code",
   "execution_count": 34,
   "metadata": {
    "execution": {
     "iopub.execute_input": "2021-02-16T01:36:24.673128Z",
     "iopub.status.busy": "2021-02-16T01:36:24.672878Z",
     "iopub.status.idle": "2021-02-16T01:36:25.962750Z",
     "shell.execute_reply": "2021-02-16T01:36:25.961898Z",
     "shell.execute_reply.started": "2021-02-16T01:36:24.673100Z"
    }
   },
   "outputs": [
    {
     "data": {
      "text/html": [
       "<div>\n",
       "<style scoped>\n",
       "    .dataframe tbody tr th:only-of-type {\n",
       "        vertical-align: middle;\n",
       "    }\n",
       "\n",
       "    .dataframe tbody tr th {\n",
       "        vertical-align: top;\n",
       "    }\n",
       "\n",
       "    .dataframe thead th {\n",
       "        text-align: right;\n",
       "    }\n",
       "</style>\n",
       "<table border=\"1\" class=\"dataframe\">\n",
       "  <thead>\n",
       "    <tr style=\"text-align: right;\">\n",
       "      <th></th>\n",
       "      <th>comments</th>\n",
       "      <th>description</th>\n",
       "      <th>duration</th>\n",
       "      <th>event</th>\n",
       "      <th>film_date</th>\n",
       "      <th>languages</th>\n",
       "      <th>main_speaker</th>\n",
       "      <th>name</th>\n",
       "      <th>num_speaker</th>\n",
       "      <th>published_date</th>\n",
       "      <th>ratings</th>\n",
       "      <th>related_talks</th>\n",
       "      <th>speaker_occupation</th>\n",
       "      <th>tags</th>\n",
       "      <th>title</th>\n",
       "      <th>url</th>\n",
       "      <th>views</th>\n",
       "    </tr>\n",
       "  </thead>\n",
       "  <tbody>\n",
       "    <tr>\n",
       "      <th>0</th>\n",
       "      <td>4553</td>\n",
       "      <td>Sir Ken Robinson makes an entertaining and pro...</td>\n",
       "      <td>1164</td>\n",
       "      <td>TED2006</td>\n",
       "      <td>1140825600</td>\n",
       "      <td>60</td>\n",
       "      <td>Ken Robinson</td>\n",
       "      <td>Ken Robinson: Do schools kill creativity?</td>\n",
       "      <td>1</td>\n",
       "      <td>1151367060</td>\n",
       "      <td>[{'id': 7, 'name': 'Funny', 'count': 19645}, {...</td>\n",
       "      <td>[{'id': 865, 'hero': 'https://pe.tedcdn.com/im...</td>\n",
       "      <td>Author/educator</td>\n",
       "      <td>['children', 'creativity', 'culture', 'dance',...</td>\n",
       "      <td>Do schools kill creativity?</td>\n",
       "      <td>https://www.ted.com/talks/ken_robinson_says_sc...</td>\n",
       "      <td>47227110</td>\n",
       "    </tr>\n",
       "    <tr>\n",
       "      <th>1</th>\n",
       "      <td>265</td>\n",
       "      <td>With the same humor and humanity he exuded in ...</td>\n",
       "      <td>977</td>\n",
       "      <td>TED2006</td>\n",
       "      <td>1140825600</td>\n",
       "      <td>43</td>\n",
       "      <td>Al Gore</td>\n",
       "      <td>Al Gore: Averting the climate crisis</td>\n",
       "      <td>1</td>\n",
       "      <td>1151367060</td>\n",
       "      <td>[{'id': 7, 'name': 'Funny', 'count': 544}, {'i...</td>\n",
       "      <td>[{'id': 243, 'hero': 'https://pe.tedcdn.com/im...</td>\n",
       "      <td>Climate advocate</td>\n",
       "      <td>['alternative energy', 'cars', 'climate change...</td>\n",
       "      <td>Averting the climate crisis</td>\n",
       "      <td>https://www.ted.com/talks/al_gore_on_averting_...</td>\n",
       "      <td>3200520</td>\n",
       "    </tr>\n",
       "    <tr>\n",
       "      <th>2</th>\n",
       "      <td>124</td>\n",
       "      <td>New York Times columnist David Pogue takes aim...</td>\n",
       "      <td>1286</td>\n",
       "      <td>TED2006</td>\n",
       "      <td>1140739200</td>\n",
       "      <td>26</td>\n",
       "      <td>David Pogue</td>\n",
       "      <td>David Pogue: Simplicity sells</td>\n",
       "      <td>1</td>\n",
       "      <td>1151367060</td>\n",
       "      <td>[{'id': 7, 'name': 'Funny', 'count': 964}, {'i...</td>\n",
       "      <td>[{'id': 1725, 'hero': 'https://pe.tedcdn.com/i...</td>\n",
       "      <td>Technology columnist</td>\n",
       "      <td>['computers', 'entertainment', 'interface desi...</td>\n",
       "      <td>Simplicity sells</td>\n",
       "      <td>https://www.ted.com/talks/david_pogue_says_sim...</td>\n",
       "      <td>1636292</td>\n",
       "    </tr>\n",
       "    <tr>\n",
       "      <th>3</th>\n",
       "      <td>200</td>\n",
       "      <td>In an emotionally charged talk, MacArthur-winn...</td>\n",
       "      <td>1116</td>\n",
       "      <td>TED2006</td>\n",
       "      <td>1140912000</td>\n",
       "      <td>35</td>\n",
       "      <td>Majora Carter</td>\n",
       "      <td>Majora Carter: Greening the ghetto</td>\n",
       "      <td>1</td>\n",
       "      <td>1151367060</td>\n",
       "      <td>[{'id': 3, 'name': 'Courageous', 'count': 760}...</td>\n",
       "      <td>[{'id': 1041, 'hero': 'https://pe.tedcdn.com/i...</td>\n",
       "      <td>Activist for environmental justice</td>\n",
       "      <td>['MacArthur grant', 'activism', 'business', 'c...</td>\n",
       "      <td>Greening the ghetto</td>\n",
       "      <td>https://www.ted.com/talks/majora_carter_s_tale...</td>\n",
       "      <td>1697550</td>\n",
       "    </tr>\n",
       "    <tr>\n",
       "      <th>4</th>\n",
       "      <td>593</td>\n",
       "      <td>You've never seen data presented like this. Wi...</td>\n",
       "      <td>1190</td>\n",
       "      <td>TED2006</td>\n",
       "      <td>1140566400</td>\n",
       "      <td>48</td>\n",
       "      <td>Hans Rosling</td>\n",
       "      <td>Hans Rosling: The best stats you've ever seen</td>\n",
       "      <td>1</td>\n",
       "      <td>1151440680</td>\n",
       "      <td>[{'id': 9, 'name': 'Ingenious', 'count': 3202}...</td>\n",
       "      <td>[{'id': 2056, 'hero': 'https://pe.tedcdn.com/i...</td>\n",
       "      <td>Global health expert; data visionary</td>\n",
       "      <td>['Africa', 'Asia', 'Google', 'demo', 'economic...</td>\n",
       "      <td>The best stats you've ever seen</td>\n",
       "      <td>https://www.ted.com/talks/hans_rosling_shows_t...</td>\n",
       "      <td>12005869</td>\n",
       "    </tr>\n",
       "  </tbody>\n",
       "</table>\n",
       "</div>"
      ],
      "text/plain": [
       "   comments                                        description  duration  \\\n",
       "0      4553  Sir Ken Robinson makes an entertaining and pro...      1164   \n",
       "1       265  With the same humor and humanity he exuded in ...       977   \n",
       "2       124  New York Times columnist David Pogue takes aim...      1286   \n",
       "3       200  In an emotionally charged talk, MacArthur-winn...      1116   \n",
       "4       593  You've never seen data presented like this. Wi...      1190   \n",
       "\n",
       "     event   film_date  languages   main_speaker  \\\n",
       "0  TED2006  1140825600         60   Ken Robinson   \n",
       "1  TED2006  1140825600         43        Al Gore   \n",
       "2  TED2006  1140739200         26    David Pogue   \n",
       "3  TED2006  1140912000         35  Majora Carter   \n",
       "4  TED2006  1140566400         48   Hans Rosling   \n",
       "\n",
       "                                            name  num_speaker  published_date  \\\n",
       "0      Ken Robinson: Do schools kill creativity?            1      1151367060   \n",
       "1           Al Gore: Averting the climate crisis            1      1151367060   \n",
       "2                  David Pogue: Simplicity sells            1      1151367060   \n",
       "3             Majora Carter: Greening the ghetto            1      1151367060   \n",
       "4  Hans Rosling: The best stats you've ever seen            1      1151440680   \n",
       "\n",
       "                                             ratings  \\\n",
       "0  [{'id': 7, 'name': 'Funny', 'count': 19645}, {...   \n",
       "1  [{'id': 7, 'name': 'Funny', 'count': 544}, {'i...   \n",
       "2  [{'id': 7, 'name': 'Funny', 'count': 964}, {'i...   \n",
       "3  [{'id': 3, 'name': 'Courageous', 'count': 760}...   \n",
       "4  [{'id': 9, 'name': 'Ingenious', 'count': 3202}...   \n",
       "\n",
       "                                       related_talks  \\\n",
       "0  [{'id': 865, 'hero': 'https://pe.tedcdn.com/im...   \n",
       "1  [{'id': 243, 'hero': 'https://pe.tedcdn.com/im...   \n",
       "2  [{'id': 1725, 'hero': 'https://pe.tedcdn.com/i...   \n",
       "3  [{'id': 1041, 'hero': 'https://pe.tedcdn.com/i...   \n",
       "4  [{'id': 2056, 'hero': 'https://pe.tedcdn.com/i...   \n",
       "\n",
       "                     speaker_occupation  \\\n",
       "0                       Author/educator   \n",
       "1                      Climate advocate   \n",
       "2                  Technology columnist   \n",
       "3    Activist for environmental justice   \n",
       "4  Global health expert; data visionary   \n",
       "\n",
       "                                                tags  \\\n",
       "0  ['children', 'creativity', 'culture', 'dance',...   \n",
       "1  ['alternative energy', 'cars', 'climate change...   \n",
       "2  ['computers', 'entertainment', 'interface desi...   \n",
       "3  ['MacArthur grant', 'activism', 'business', 'c...   \n",
       "4  ['Africa', 'Asia', 'Google', 'demo', 'economic...   \n",
       "\n",
       "                             title  \\\n",
       "0      Do schools kill creativity?   \n",
       "1      Averting the climate crisis   \n",
       "2                 Simplicity sells   \n",
       "3              Greening the ghetto   \n",
       "4  The best stats you've ever seen   \n",
       "\n",
       "                                                 url     views  \n",
       "0  https://www.ted.com/talks/ken_robinson_says_sc...  47227110  \n",
       "1  https://www.ted.com/talks/al_gore_on_averting_...   3200520  \n",
       "2  https://www.ted.com/talks/david_pogue_says_sim...   1636292  \n",
       "3  https://www.ted.com/talks/majora_carter_s_tale...   1697550  \n",
       "4  https://www.ted.com/talks/hans_rosling_shows_t...  12005869  "
      ]
     },
     "execution_count": 34,
     "metadata": {},
     "output_type": "execute_result"
    }
   ],
   "source": [
    "import pandas as pd\n",
    "import requests\n",
    "import io\n",
    "    \n",
    "# Downloading the csv file from my GitHub account\n",
    "url = \"https://raw.githubusercontent.com/McGill-MMA-EnterpriseAnalytics/TED/main/data/ted_main.csv\"\n",
    "\n",
    "download = requests.get(url).content\n",
    "\n",
    "# Reading the downloaded content and turning it into a pandas dataframe\n",
    "# We will use \"churn\" instead of \"df\" for replication purposes\n",
    "df = pd.read_csv(io.StringIO(download.decode('utf-8')))\n",
    "\n",
    "# Printing out the first 5 rows of the dataframe\n",
    "df.head()"
   ]
  },
  {
   "cell_type": "markdown",
   "metadata": {},
   "source": [
    "# Data preprocessing\n",
    "\n",
    "## About the original dataset\n",
    "\n",
    "* **name:** The official name of the TED Talk. Includes the title and the speaker.\n",
    "* **title:** The title of the talk\n",
    "* **description:** A blurb of what the talk is about.\n",
    "* **main_speaker:** The first named speaker of the talk.\n",
    "* **speaker_occupation:** The occupation of the main speaker.\n",
    "* **num_speaker:** The number of speakers in the talk.\n",
    "* **duration:** The duration of the talk in seconds.\n",
    "* **event:** The TED/TEDx event where the talk took place.\n",
    "* **film_date:** The Unix timestamp of the filming.\n",
    "* **published_date:** The Unix timestamp for the publication of the talk on TED.com\n",
    "* **comments:** The number of first level comments made on the talk.\n",
    "* **tags:** The themes associated with the talk.\n",
    "* **languages:** The number of languages in which the talk is available.\n",
    "* **ratings:** A stringified dictionary of the various ratings given to the talk (inspiring, fascinating, jaw dropping, etc.)\n",
    "* **related_talks:** A list of dictionaries of recommended talks to watch next.\n",
    "* **url:** The URL of the talk.\n",
    "* **views:** The number of views on the talk."
   ]
  },
  {
   "cell_type": "code",
   "execution_count": 35,
   "metadata": {
    "execution": {
     "iopub.execute_input": "2021-02-16T01:36:27.716984Z",
     "iopub.status.busy": "2021-02-16T01:36:27.716563Z",
     "iopub.status.idle": "2021-02-16T01:36:27.737750Z",
     "shell.execute_reply": "2021-02-16T01:36:27.737085Z",
     "shell.execute_reply.started": "2021-02-16T01:36:27.716920Z"
    }
   },
   "outputs": [
    {
     "name": "stdout",
     "output_type": "stream",
     "text": [
      "<class 'pandas.core.frame.DataFrame'>\n",
      "RangeIndex: 2550 entries, 0 to 2549\n",
      "Data columns (total 17 columns):\n",
      " #   Column              Non-Null Count  Dtype \n",
      "---  ------              --------------  ----- \n",
      " 0   comments            2550 non-null   int64 \n",
      " 1   description         2550 non-null   object\n",
      " 2   duration            2550 non-null   int64 \n",
      " 3   event               2550 non-null   object\n",
      " 4   film_date           2550 non-null   int64 \n",
      " 5   languages           2550 non-null   int64 \n",
      " 6   main_speaker        2550 non-null   object\n",
      " 7   name                2550 non-null   object\n",
      " 8   num_speaker         2550 non-null   int64 \n",
      " 9   published_date      2550 non-null   int64 \n",
      " 10  ratings             2550 non-null   object\n",
      " 11  related_talks       2550 non-null   object\n",
      " 12  speaker_occupation  2544 non-null   object\n",
      " 13  tags                2550 non-null   object\n",
      " 14  title               2550 non-null   object\n",
      " 15  url                 2550 non-null   object\n",
      " 16  views               2550 non-null   int64 \n",
      "dtypes: int64(7), object(10)\n",
      "memory usage: 338.8+ KB\n"
     ]
    }
   ],
   "source": [
    "df.info()"
   ]
  },
  {
   "cell_type": "code",
   "execution_count": 36,
   "metadata": {
    "execution": {
     "iopub.execute_input": "2021-02-16T01:36:31.362738Z",
     "iopub.status.busy": "2021-02-16T01:36:31.362420Z",
     "iopub.status.idle": "2021-02-16T01:36:31.381718Z",
     "shell.execute_reply": "2021-02-16T01:36:31.380915Z",
     "shell.execute_reply.started": "2021-02-16T01:36:31.362706Z"
    }
   },
   "outputs": [
    {
     "data": {
      "text/html": [
       "<div>\n",
       "<style scoped>\n",
       "    .dataframe tbody tr th:only-of-type {\n",
       "        vertical-align: middle;\n",
       "    }\n",
       "\n",
       "    .dataframe tbody tr th {\n",
       "        vertical-align: top;\n",
       "    }\n",
       "\n",
       "    .dataframe thead th {\n",
       "        text-align: right;\n",
       "    }\n",
       "</style>\n",
       "<table border=\"1\" class=\"dataframe\">\n",
       "  <thead>\n",
       "    <tr style=\"text-align: right;\">\n",
       "      <th></th>\n",
       "      <th>name</th>\n",
       "      <th>title</th>\n",
       "      <th>description</th>\n",
       "      <th>main_speaker</th>\n",
       "      <th>speaker_occupation</th>\n",
       "      <th>num_speaker</th>\n",
       "      <th>duration</th>\n",
       "      <th>event</th>\n",
       "      <th>film_date</th>\n",
       "      <th>published_date</th>\n",
       "      <th>comments</th>\n",
       "      <th>tags</th>\n",
       "      <th>languages</th>\n",
       "      <th>ratings</th>\n",
       "      <th>related_talks</th>\n",
       "      <th>url</th>\n",
       "      <th>views</th>\n",
       "    </tr>\n",
       "  </thead>\n",
       "  <tbody>\n",
       "    <tr>\n",
       "      <th>0</th>\n",
       "      <td>Ken Robinson: Do schools kill creativity?</td>\n",
       "      <td>Do schools kill creativity?</td>\n",
       "      <td>Sir Ken Robinson makes an entertaining and pro...</td>\n",
       "      <td>Ken Robinson</td>\n",
       "      <td>Author/educator</td>\n",
       "      <td>1</td>\n",
       "      <td>1164</td>\n",
       "      <td>TED2006</td>\n",
       "      <td>1140825600</td>\n",
       "      <td>1151367060</td>\n",
       "      <td>4553</td>\n",
       "      <td>['children', 'creativity', 'culture', 'dance',...</td>\n",
       "      <td>60</td>\n",
       "      <td>[{'id': 7, 'name': 'Funny', 'count': 19645}, {...</td>\n",
       "      <td>[{'id': 865, 'hero': 'https://pe.tedcdn.com/im...</td>\n",
       "      <td>https://www.ted.com/talks/ken_robinson_says_sc...</td>\n",
       "      <td>47227110</td>\n",
       "    </tr>\n",
       "    <tr>\n",
       "      <th>1</th>\n",
       "      <td>Al Gore: Averting the climate crisis</td>\n",
       "      <td>Averting the climate crisis</td>\n",
       "      <td>With the same humor and humanity he exuded in ...</td>\n",
       "      <td>Al Gore</td>\n",
       "      <td>Climate advocate</td>\n",
       "      <td>1</td>\n",
       "      <td>977</td>\n",
       "      <td>TED2006</td>\n",
       "      <td>1140825600</td>\n",
       "      <td>1151367060</td>\n",
       "      <td>265</td>\n",
       "      <td>['alternative energy', 'cars', 'climate change...</td>\n",
       "      <td>43</td>\n",
       "      <td>[{'id': 7, 'name': 'Funny', 'count': 544}, {'i...</td>\n",
       "      <td>[{'id': 243, 'hero': 'https://pe.tedcdn.com/im...</td>\n",
       "      <td>https://www.ted.com/talks/al_gore_on_averting_...</td>\n",
       "      <td>3200520</td>\n",
       "    </tr>\n",
       "    <tr>\n",
       "      <th>2</th>\n",
       "      <td>David Pogue: Simplicity sells</td>\n",
       "      <td>Simplicity sells</td>\n",
       "      <td>New York Times columnist David Pogue takes aim...</td>\n",
       "      <td>David Pogue</td>\n",
       "      <td>Technology columnist</td>\n",
       "      <td>1</td>\n",
       "      <td>1286</td>\n",
       "      <td>TED2006</td>\n",
       "      <td>1140739200</td>\n",
       "      <td>1151367060</td>\n",
       "      <td>124</td>\n",
       "      <td>['computers', 'entertainment', 'interface desi...</td>\n",
       "      <td>26</td>\n",
       "      <td>[{'id': 7, 'name': 'Funny', 'count': 964}, {'i...</td>\n",
       "      <td>[{'id': 1725, 'hero': 'https://pe.tedcdn.com/i...</td>\n",
       "      <td>https://www.ted.com/talks/david_pogue_says_sim...</td>\n",
       "      <td>1636292</td>\n",
       "    </tr>\n",
       "    <tr>\n",
       "      <th>3</th>\n",
       "      <td>Majora Carter: Greening the ghetto</td>\n",
       "      <td>Greening the ghetto</td>\n",
       "      <td>In an emotionally charged talk, MacArthur-winn...</td>\n",
       "      <td>Majora Carter</td>\n",
       "      <td>Activist for environmental justice</td>\n",
       "      <td>1</td>\n",
       "      <td>1116</td>\n",
       "      <td>TED2006</td>\n",
       "      <td>1140912000</td>\n",
       "      <td>1151367060</td>\n",
       "      <td>200</td>\n",
       "      <td>['MacArthur grant', 'activism', 'business', 'c...</td>\n",
       "      <td>35</td>\n",
       "      <td>[{'id': 3, 'name': 'Courageous', 'count': 760}...</td>\n",
       "      <td>[{'id': 1041, 'hero': 'https://pe.tedcdn.com/i...</td>\n",
       "      <td>https://www.ted.com/talks/majora_carter_s_tale...</td>\n",
       "      <td>1697550</td>\n",
       "    </tr>\n",
       "    <tr>\n",
       "      <th>4</th>\n",
       "      <td>Hans Rosling: The best stats you've ever seen</td>\n",
       "      <td>The best stats you've ever seen</td>\n",
       "      <td>You've never seen data presented like this. Wi...</td>\n",
       "      <td>Hans Rosling</td>\n",
       "      <td>Global health expert; data visionary</td>\n",
       "      <td>1</td>\n",
       "      <td>1190</td>\n",
       "      <td>TED2006</td>\n",
       "      <td>1140566400</td>\n",
       "      <td>1151440680</td>\n",
       "      <td>593</td>\n",
       "      <td>['Africa', 'Asia', 'Google', 'demo', 'economic...</td>\n",
       "      <td>48</td>\n",
       "      <td>[{'id': 9, 'name': 'Ingenious', 'count': 3202}...</td>\n",
       "      <td>[{'id': 2056, 'hero': 'https://pe.tedcdn.com/i...</td>\n",
       "      <td>https://www.ted.com/talks/hans_rosling_shows_t...</td>\n",
       "      <td>12005869</td>\n",
       "    </tr>\n",
       "  </tbody>\n",
       "</table>\n",
       "</div>"
      ],
      "text/plain": [
       "                                            name  \\\n",
       "0      Ken Robinson: Do schools kill creativity?   \n",
       "1           Al Gore: Averting the climate crisis   \n",
       "2                  David Pogue: Simplicity sells   \n",
       "3             Majora Carter: Greening the ghetto   \n",
       "4  Hans Rosling: The best stats you've ever seen   \n",
       "\n",
       "                             title  \\\n",
       "0      Do schools kill creativity?   \n",
       "1      Averting the climate crisis   \n",
       "2                 Simplicity sells   \n",
       "3              Greening the ghetto   \n",
       "4  The best stats you've ever seen   \n",
       "\n",
       "                                         description   main_speaker  \\\n",
       "0  Sir Ken Robinson makes an entertaining and pro...   Ken Robinson   \n",
       "1  With the same humor and humanity he exuded in ...        Al Gore   \n",
       "2  New York Times columnist David Pogue takes aim...    David Pogue   \n",
       "3  In an emotionally charged talk, MacArthur-winn...  Majora Carter   \n",
       "4  You've never seen data presented like this. Wi...   Hans Rosling   \n",
       "\n",
       "                     speaker_occupation  num_speaker  duration    event  \\\n",
       "0                       Author/educator            1      1164  TED2006   \n",
       "1                      Climate advocate            1       977  TED2006   \n",
       "2                  Technology columnist            1      1286  TED2006   \n",
       "3    Activist for environmental justice            1      1116  TED2006   \n",
       "4  Global health expert; data visionary            1      1190  TED2006   \n",
       "\n",
       "    film_date  published_date  comments  \\\n",
       "0  1140825600      1151367060      4553   \n",
       "1  1140825600      1151367060       265   \n",
       "2  1140739200      1151367060       124   \n",
       "3  1140912000      1151367060       200   \n",
       "4  1140566400      1151440680       593   \n",
       "\n",
       "                                                tags  languages  \\\n",
       "0  ['children', 'creativity', 'culture', 'dance',...         60   \n",
       "1  ['alternative energy', 'cars', 'climate change...         43   \n",
       "2  ['computers', 'entertainment', 'interface desi...         26   \n",
       "3  ['MacArthur grant', 'activism', 'business', 'c...         35   \n",
       "4  ['Africa', 'Asia', 'Google', 'demo', 'economic...         48   \n",
       "\n",
       "                                             ratings  \\\n",
       "0  [{'id': 7, 'name': 'Funny', 'count': 19645}, {...   \n",
       "1  [{'id': 7, 'name': 'Funny', 'count': 544}, {'i...   \n",
       "2  [{'id': 7, 'name': 'Funny', 'count': 964}, {'i...   \n",
       "3  [{'id': 3, 'name': 'Courageous', 'count': 760}...   \n",
       "4  [{'id': 9, 'name': 'Ingenious', 'count': 3202}...   \n",
       "\n",
       "                                       related_talks  \\\n",
       "0  [{'id': 865, 'hero': 'https://pe.tedcdn.com/im...   \n",
       "1  [{'id': 243, 'hero': 'https://pe.tedcdn.com/im...   \n",
       "2  [{'id': 1725, 'hero': 'https://pe.tedcdn.com/i...   \n",
       "3  [{'id': 1041, 'hero': 'https://pe.tedcdn.com/i...   \n",
       "4  [{'id': 2056, 'hero': 'https://pe.tedcdn.com/i...   \n",
       "\n",
       "                                                 url     views  \n",
       "0  https://www.ted.com/talks/ken_robinson_says_sc...  47227110  \n",
       "1  https://www.ted.com/talks/al_gore_on_averting_...   3200520  \n",
       "2  https://www.ted.com/talks/david_pogue_says_sim...   1636292  \n",
       "3  https://www.ted.com/talks/majora_carter_s_tale...   1697550  \n",
       "4  https://www.ted.com/talks/hans_rosling_shows_t...  12005869  "
      ]
     },
     "execution_count": 36,
     "metadata": {},
     "output_type": "execute_result"
    }
   ],
   "source": [
    "# Reorganize the columns for a better visualization\n",
    "\n",
    "df = df[['name', 'title', 'description', 'main_speaker', 'speaker_occupation', 'num_speaker', 'duration', 'event', 'film_date', 'published_date', 'comments', 'tags', 'languages', 'ratings', 'related_talks', 'url', 'views']]\n",
    "df.head()"
   ]
  },
  {
   "cell_type": "code",
   "execution_count": 37,
   "metadata": {
    "execution": {
     "iopub.execute_input": "2021-02-16T01:36:33.612926Z",
     "iopub.status.busy": "2021-02-16T01:36:33.612665Z",
     "iopub.status.idle": "2021-02-16T01:36:33.649207Z",
     "shell.execute_reply": "2021-02-16T01:36:33.648337Z",
     "shell.execute_reply.started": "2021-02-16T01:36:33.612897Z"
    }
   },
   "outputs": [
    {
     "data": {
      "text/plain": [
       "(2550, 17)"
      ]
     },
     "metadata": {},
     "output_type": "display_data"
    },
    {
     "data": {
      "text/plain": [
       "name                  0\n",
       "title                 0\n",
       "description           0\n",
       "main_speaker          0\n",
       "speaker_occupation    6\n",
       "num_speaker           0\n",
       "duration              0\n",
       "event                 0\n",
       "film_date             0\n",
       "published_date        0\n",
       "comments              0\n",
       "tags                  0\n",
       "languages             0\n",
       "ratings               0\n",
       "related_talks         0\n",
       "url                   0\n",
       "views                 0\n",
       "dtype: int64"
      ]
     },
     "metadata": {},
     "output_type": "display_data"
    },
    {
     "data": {
      "text/html": [
       "<div>\n",
       "<style scoped>\n",
       "    .dataframe tbody tr th:only-of-type {\n",
       "        vertical-align: middle;\n",
       "    }\n",
       "\n",
       "    .dataframe tbody tr th {\n",
       "        vertical-align: top;\n",
       "    }\n",
       "\n",
       "    .dataframe thead th {\n",
       "        text-align: right;\n",
       "    }\n",
       "</style>\n",
       "<table border=\"1\" class=\"dataframe\">\n",
       "  <thead>\n",
       "    <tr style=\"text-align: right;\">\n",
       "      <th></th>\n",
       "      <th>num_speaker</th>\n",
       "      <th>duration</th>\n",
       "      <th>film_date</th>\n",
       "      <th>published_date</th>\n",
       "      <th>comments</th>\n",
       "      <th>languages</th>\n",
       "      <th>views</th>\n",
       "    </tr>\n",
       "  </thead>\n",
       "  <tbody>\n",
       "    <tr>\n",
       "      <th>count</th>\n",
       "      <td>2550.000000</td>\n",
       "      <td>2550.000000</td>\n",
       "      <td>2.550000e+03</td>\n",
       "      <td>2.550000e+03</td>\n",
       "      <td>2550.000000</td>\n",
       "      <td>2550.000000</td>\n",
       "      <td>2.550000e+03</td>\n",
       "    </tr>\n",
       "    <tr>\n",
       "      <th>mean</th>\n",
       "      <td>1.028235</td>\n",
       "      <td>826.510196</td>\n",
       "      <td>1.321928e+09</td>\n",
       "      <td>1.343525e+09</td>\n",
       "      <td>191.562353</td>\n",
       "      <td>27.326275</td>\n",
       "      <td>1.698297e+06</td>\n",
       "    </tr>\n",
       "    <tr>\n",
       "      <th>std</th>\n",
       "      <td>0.207705</td>\n",
       "      <td>374.009138</td>\n",
       "      <td>1.197391e+08</td>\n",
       "      <td>9.464009e+07</td>\n",
       "      <td>282.315223</td>\n",
       "      <td>9.563452</td>\n",
       "      <td>2.498479e+06</td>\n",
       "    </tr>\n",
       "    <tr>\n",
       "      <th>min</th>\n",
       "      <td>1.000000</td>\n",
       "      <td>135.000000</td>\n",
       "      <td>7.464960e+07</td>\n",
       "      <td>1.151367e+09</td>\n",
       "      <td>2.000000</td>\n",
       "      <td>0.000000</td>\n",
       "      <td>5.044300e+04</td>\n",
       "    </tr>\n",
       "    <tr>\n",
       "      <th>25%</th>\n",
       "      <td>1.000000</td>\n",
       "      <td>577.000000</td>\n",
       "      <td>1.257466e+09</td>\n",
       "      <td>1.268463e+09</td>\n",
       "      <td>63.000000</td>\n",
       "      <td>23.000000</td>\n",
       "      <td>7.557928e+05</td>\n",
       "    </tr>\n",
       "    <tr>\n",
       "      <th>50%</th>\n",
       "      <td>1.000000</td>\n",
       "      <td>848.000000</td>\n",
       "      <td>1.333238e+09</td>\n",
       "      <td>1.340935e+09</td>\n",
       "      <td>118.000000</td>\n",
       "      <td>28.000000</td>\n",
       "      <td>1.124524e+06</td>\n",
       "    </tr>\n",
       "    <tr>\n",
       "      <th>75%</th>\n",
       "      <td>1.000000</td>\n",
       "      <td>1046.750000</td>\n",
       "      <td>1.412964e+09</td>\n",
       "      <td>1.423432e+09</td>\n",
       "      <td>221.750000</td>\n",
       "      <td>33.000000</td>\n",
       "      <td>1.700760e+06</td>\n",
       "    </tr>\n",
       "    <tr>\n",
       "      <th>max</th>\n",
       "      <td>5.000000</td>\n",
       "      <td>5256.000000</td>\n",
       "      <td>1.503792e+09</td>\n",
       "      <td>1.506092e+09</td>\n",
       "      <td>6404.000000</td>\n",
       "      <td>72.000000</td>\n",
       "      <td>4.722711e+07</td>\n",
       "    </tr>\n",
       "  </tbody>\n",
       "</table>\n",
       "</div>"
      ],
      "text/plain": [
       "       num_speaker     duration     film_date  published_date     comments  \\\n",
       "count  2550.000000  2550.000000  2.550000e+03    2.550000e+03  2550.000000   \n",
       "mean      1.028235   826.510196  1.321928e+09    1.343525e+09   191.562353   \n",
       "std       0.207705   374.009138  1.197391e+08    9.464009e+07   282.315223   \n",
       "min       1.000000   135.000000  7.464960e+07    1.151367e+09     2.000000   \n",
       "25%       1.000000   577.000000  1.257466e+09    1.268463e+09    63.000000   \n",
       "50%       1.000000   848.000000  1.333238e+09    1.340935e+09   118.000000   \n",
       "75%       1.000000  1046.750000  1.412964e+09    1.423432e+09   221.750000   \n",
       "max       5.000000  5256.000000  1.503792e+09    1.506092e+09  6404.000000   \n",
       "\n",
       "         languages         views  \n",
       "count  2550.000000  2.550000e+03  \n",
       "mean     27.326275  1.698297e+06  \n",
       "std       9.563452  2.498479e+06  \n",
       "min       0.000000  5.044300e+04  \n",
       "25%      23.000000  7.557928e+05  \n",
       "50%      28.000000  1.124524e+06  \n",
       "75%      33.000000  1.700760e+06  \n",
       "max      72.000000  4.722711e+07  "
      ]
     },
     "metadata": {},
     "output_type": "display_data"
    }
   ],
   "source": [
    "# Some more information about the dataset\n",
    "\n",
    "display(df.shape)\n",
    "display(df.isnull().sum())\n",
    "display(df.describe())"
   ]
  },
  {
   "cell_type": "markdown",
   "metadata": {},
   "source": [
    "## Initial Observations\n",
    "\n",
    "- There are 2550 rows and 17 columns.\n",
    "- `speaker_occupation` column have 6 missing values."
   ]
  },
  {
   "cell_type": "code",
   "execution_count": 38,
   "metadata": {
    "execution": {
     "iopub.execute_input": "2021-02-16T01:36:35.381218Z",
     "iopub.status.busy": "2021-02-16T01:36:35.380938Z",
     "iopub.status.idle": "2021-02-16T01:36:35.385609Z",
     "shell.execute_reply": "2021-02-16T01:36:35.384784Z",
     "shell.execute_reply.started": "2021-02-16T01:36:35.381186Z"
    }
   },
   "outputs": [],
   "source": [
    "# working on df_copy for the rest of data exploration\n",
    "\n",
    "df_copy = df.copy()"
   ]
  },
  {
   "cell_type": "code",
   "execution_count": 39,
   "metadata": {
    "execution": {
     "iopub.execute_input": "2021-02-16T01:36:36.222340Z",
     "iopub.status.busy": "2021-02-16T01:36:36.222035Z",
     "iopub.status.idle": "2021-02-16T01:36:36.230129Z",
     "shell.execute_reply": "2021-02-16T01:36:36.229260Z",
     "shell.execute_reply.started": "2021-02-16T01:36:36.222309Z"
    }
   },
   "outputs": [
    {
     "data": {
      "text/plain": [
       "(2439, 17)"
      ]
     },
     "execution_count": 39,
     "metadata": {},
     "output_type": "execute_result"
    }
   ],
   "source": [
    "# Filtering out the TED talks\n",
    "df_copy = df_copy[df_copy['event'].str.contains('TED', regex=False, case=False, na=False)]\n",
    "df_copy.shape"
   ]
  },
  {
   "cell_type": "code",
   "execution_count": 40,
   "metadata": {
    "execution": {
     "iopub.execute_input": "2021-02-16T01:36:36.851027Z",
     "iopub.status.busy": "2021-02-16T01:36:36.850799Z",
     "iopub.status.idle": "2021-02-16T01:36:36.856307Z",
     "shell.execute_reply": "2021-02-16T01:36:36.855409Z",
     "shell.execute_reply.started": "2021-02-16T01:36:36.851002Z"
    }
   },
   "outputs": [],
   "source": [
    "df_copy = df_copy.drop([\"description\",\"url\"],axis=1)"
   ]
  },
  {
   "cell_type": "code",
   "execution_count": 41,
   "metadata": {
    "execution": {
     "iopub.execute_input": "2021-02-16T01:36:41.507343Z",
     "iopub.status.busy": "2021-02-16T01:36:41.507079Z",
     "iopub.status.idle": "2021-02-16T01:36:41.512738Z",
     "shell.execute_reply": "2021-02-16T01:36:41.511778Z",
     "shell.execute_reply.started": "2021-02-16T01:36:41.507314Z"
    }
   },
   "outputs": [],
   "source": [
    "# Converting Duration to minutes\n",
    "df_copy[\"duration\"] = round(df_copy[\"duration\"]/60,2)"
   ]
  },
  {
   "cell_type": "code",
   "execution_count": 42,
   "metadata": {
    "execution": {
     "iopub.execute_input": "2021-02-16T01:36:42.205172Z",
     "iopub.status.busy": "2021-02-16T01:36:42.204915Z",
     "iopub.status.idle": "2021-02-16T01:36:42.211266Z",
     "shell.execute_reply": "2021-02-16T01:36:42.210260Z",
     "shell.execute_reply.started": "2021-02-16T01:36:42.205145Z"
    }
   },
   "outputs": [],
   "source": [
    "df_copy.fillna('Unknown', inplace = True)"
   ]
  },
  {
   "cell_type": "code",
   "execution_count": 43,
   "metadata": {
    "execution": {
     "iopub.execute_input": "2021-02-16T01:36:44.873578Z",
     "iopub.status.busy": "2021-02-16T01:36:44.873319Z",
     "iopub.status.idle": "2021-02-16T01:36:44.881692Z",
     "shell.execute_reply": "2021-02-16T01:36:44.881070Z",
     "shell.execute_reply.started": "2021-02-16T01:36:44.873549Z"
    }
   },
   "outputs": [
    {
     "data": {
      "text/plain": [
       "count    2439.000000\n",
       "mean       27.703977\n",
       "std         9.205526\n",
       "min         0.000000\n",
       "25%        23.000000\n",
       "50%        28.000000\n",
       "75%        33.000000\n",
       "max        72.000000\n",
       "Name: languages, dtype: float64"
      ]
     },
     "execution_count": 43,
     "metadata": {},
     "output_type": "execute_result"
    }
   ],
   "source": [
    "df_copy['languages'].describe()"
   ]
  },
  {
   "cell_type": "markdown",
   "metadata": {},
   "source": [
    "Observations with zero languages are musicals"
   ]
  },
  {
   "cell_type": "code",
   "execution_count": 45,
   "metadata": {
    "execution": {
     "iopub.execute_input": "2021-02-16T01:36:58.399275Z",
     "iopub.status.busy": "2021-02-16T01:36:58.399043Z",
     "iopub.status.idle": "2021-02-16T01:36:58.414498Z",
     "shell.execute_reply": "2021-02-16T01:36:58.413845Z",
     "shell.execute_reply.started": "2021-02-16T01:36:58.399250Z"
    }
   },
   "outputs": [
    {
     "data": {
      "text/html": [
       "<div>\n",
       "<style scoped>\n",
       "    .dataframe tbody tr th:only-of-type {\n",
       "        vertical-align: middle;\n",
       "    }\n",
       "\n",
       "    .dataframe tbody tr th {\n",
       "        vertical-align: top;\n",
       "    }\n",
       "\n",
       "    .dataframe thead th {\n",
       "        text-align: right;\n",
       "    }\n",
       "</style>\n",
       "<table border=\"1\" class=\"dataframe\">\n",
       "  <thead>\n",
       "    <tr style=\"text-align: right;\">\n",
       "      <th></th>\n",
       "      <th>name</th>\n",
       "      <th>title</th>\n",
       "      <th>main_speaker</th>\n",
       "      <th>speaker_occupation</th>\n",
       "      <th>num_speaker</th>\n",
       "      <th>duration</th>\n",
       "      <th>event</th>\n",
       "      <th>film_date</th>\n",
       "      <th>published_date</th>\n",
       "      <th>comments</th>\n",
       "      <th>tags</th>\n",
       "      <th>languages</th>\n",
       "      <th>ratings</th>\n",
       "      <th>related_talks</th>\n",
       "      <th>views</th>\n",
       "    </tr>\n",
       "  </thead>\n",
       "  <tbody>\n",
       "    <tr>\n",
       "      <th>58</th>\n",
       "      <td>Pilobolus: A dance of \"Symbiosis\"</td>\n",
       "      <td>A dance of \"Symbiosis\"</td>\n",
       "      <td>Pilobolus</td>\n",
       "      <td>Dance company</td>\n",
       "      <td>1</td>\n",
       "      <td>13.75</td>\n",
       "      <td>TED2005</td>\n",
       "      <td>1109289600</td>\n",
       "      <td>1170979860</td>\n",
       "      <td>222</td>\n",
       "      <td>['dance', 'entertainment', 'nature', 'performa...</td>\n",
       "      <td>0</td>\n",
       "      <td>[{'id': 1, 'name': 'Beautiful', 'count': 1810}...</td>\n",
       "      <td>[{'id': 40, 'hero': 'https://pe.tedcdn.com/ima...</td>\n",
       "      <td>3051507</td>\n",
       "    </tr>\n",
       "    <tr>\n",
       "      <th>115</th>\n",
       "      <td>Ethel: A string quartet plays \"Blue Room\"</td>\n",
       "      <td>A string quartet plays \"Blue Room\"</td>\n",
       "      <td>Ethel</td>\n",
       "      <td>String quartet</td>\n",
       "      <td>1</td>\n",
       "      <td>3.57</td>\n",
       "      <td>TED2006</td>\n",
       "      <td>1138838400</td>\n",
       "      <td>1182184140</td>\n",
       "      <td>27</td>\n",
       "      <td>['cello', 'collaboration', 'culture', 'enterta...</td>\n",
       "      <td>0</td>\n",
       "      <td>[{'id': 1, 'name': 'Beautiful', 'count': 216},...</td>\n",
       "      <td>[{'id': 103, 'hero': 'https://pe.tedcdn.com/im...</td>\n",
       "      <td>384641</td>\n",
       "    </tr>\n",
       "    <tr>\n",
       "      <th>135</th>\n",
       "      <td>Vusi Mahlasela: \"Woza\"</td>\n",
       "      <td>\"Woza\"</td>\n",
       "      <td>Vusi Mahlasela</td>\n",
       "      <td>Musician, activist</td>\n",
       "      <td>1</td>\n",
       "      <td>4.98</td>\n",
       "      <td>TEDGlobal 2007</td>\n",
       "      <td>1181260800</td>\n",
       "      <td>1187695440</td>\n",
       "      <td>36</td>\n",
       "      <td>['Africa', 'entertainment', 'guitar', 'live mu...</td>\n",
       "      <td>0</td>\n",
       "      <td>[{'id': 8, 'name': 'Informative', 'count': 4},...</td>\n",
       "      <td>[{'id': 158, 'hero': 'https://pe.tedcdn.com/im...</td>\n",
       "      <td>416603</td>\n",
       "    </tr>\n",
       "  </tbody>\n",
       "</table>\n",
       "</div>"
      ],
      "text/plain": [
       "                                          name  \\\n",
       "58           Pilobolus: A dance of \"Symbiosis\"   \n",
       "115  Ethel: A string quartet plays \"Blue Room\"   \n",
       "135                     Vusi Mahlasela: \"Woza\"   \n",
       "\n",
       "                                  title    main_speaker  speaker_occupation  \\\n",
       "58               A dance of \"Symbiosis\"       Pilobolus       Dance company   \n",
       "115  A string quartet plays \"Blue Room\"           Ethel      String quartet   \n",
       "135                              \"Woza\"  Vusi Mahlasela  Musician, activist   \n",
       "\n",
       "     num_speaker  duration           event   film_date  published_date  \\\n",
       "58             1     13.75         TED2005  1109289600      1170979860   \n",
       "115            1      3.57         TED2006  1138838400      1182184140   \n",
       "135            1      4.98  TEDGlobal 2007  1181260800      1187695440   \n",
       "\n",
       "     comments                                               tags  languages  \\\n",
       "58        222  ['dance', 'entertainment', 'nature', 'performa...          0   \n",
       "115        27  ['cello', 'collaboration', 'culture', 'enterta...          0   \n",
       "135        36  ['Africa', 'entertainment', 'guitar', 'live mu...          0   \n",
       "\n",
       "                                               ratings  \\\n",
       "58   [{'id': 1, 'name': 'Beautiful', 'count': 1810}...   \n",
       "115  [{'id': 1, 'name': 'Beautiful', 'count': 216},...   \n",
       "135  [{'id': 8, 'name': 'Informative', 'count': 4},...   \n",
       "\n",
       "                                         related_talks    views  \n",
       "58   [{'id': 40, 'hero': 'https://pe.tedcdn.com/ima...  3051507  \n",
       "115  [{'id': 103, 'hero': 'https://pe.tedcdn.com/im...   384641  \n",
       "135  [{'id': 158, 'hero': 'https://pe.tedcdn.com/im...   416603  "
      ]
     },
     "execution_count": 45,
     "metadata": {},
     "output_type": "execute_result"
    }
   ],
   "source": [
    "df_copy[df_copy['languages'] == 0].head(3)"
   ]
  },
  {
   "cell_type": "code",
   "execution_count": 46,
   "metadata": {
    "execution": {
     "iopub.execute_input": "2021-02-16T01:37:01.158504Z",
     "iopub.status.busy": "2021-02-16T01:37:01.158254Z",
     "iopub.status.idle": "2021-02-16T01:37:01.162774Z",
     "shell.execute_reply": "2021-02-16T01:37:01.161878Z",
     "shell.execute_reply.started": "2021-02-16T01:37:01.158476Z"
    }
   },
   "outputs": [],
   "source": [
    "#Indexing the rows\n",
    "df_copy.reset_index(inplace=True)"
   ]
  },
  {
   "cell_type": "code",
   "execution_count": 47,
   "metadata": {
    "execution": {
     "iopub.execute_input": "2021-02-16T01:37:01.853764Z",
     "iopub.status.busy": "2021-02-16T01:37:01.853476Z",
     "iopub.status.idle": "2021-02-16T01:37:01.856843Z",
     "shell.execute_reply": "2021-02-16T01:37:01.856078Z",
     "shell.execute_reply.started": "2021-02-16T01:37:01.853736Z"
    }
   },
   "outputs": [],
   "source": [
    "from collections import defaultdict\n",
    "rating_data = defaultdict(list)"
   ]
  },
  {
   "cell_type": "code",
   "execution_count": 48,
   "metadata": {
    "execution": {
     "iopub.execute_input": "2021-02-16T01:37:04.546441Z",
     "iopub.status.busy": "2021-02-16T01:37:04.546145Z",
     "iopub.status.idle": "2021-02-16T01:37:05.210062Z",
     "shell.execute_reply": "2021-02-16T01:37:05.209456Z",
     "shell.execute_reply.started": "2021-02-16T01:37:04.546409Z"
    }
   },
   "outputs": [],
   "source": [
    "import ast\n",
    "rating_names = set()\n",
    "for index, row in df_copy.iterrows():\n",
    "    rating = ast.literal_eval(row['ratings'])\n",
    "    for item in rating:\n",
    "        rating_names.add(item['name'])"
   ]
  },
  {
   "cell_type": "code",
   "execution_count": 49,
   "metadata": {
    "execution": {
     "iopub.execute_input": "2021-02-16T01:37:05.211965Z",
     "iopub.status.busy": "2021-02-16T01:37:05.211685Z",
     "iopub.status.idle": "2021-02-16T01:37:05.216314Z",
     "shell.execute_reply": "2021-02-16T01:37:05.215681Z",
     "shell.execute_reply.started": "2021-02-16T01:37:05.211940Z"
    }
   },
   "outputs": [
    {
     "data": {
      "text/plain": [
       "{'Beautiful',\n",
       " 'Confusing',\n",
       " 'Courageous',\n",
       " 'Fascinating',\n",
       " 'Funny',\n",
       " 'Informative',\n",
       " 'Ingenious',\n",
       " 'Inspiring',\n",
       " 'Jaw-dropping',\n",
       " 'Longwinded',\n",
       " 'OK',\n",
       " 'Obnoxious',\n",
       " 'Persuasive',\n",
       " 'Unconvincing'}"
      ]
     },
     "execution_count": 49,
     "metadata": {},
     "output_type": "execute_result"
    }
   ],
   "source": [
    "rating_names"
   ]
  },
  {
   "cell_type": "code",
   "execution_count": 50,
   "metadata": {
    "execution": {
     "iopub.execute_input": "2021-02-16T01:37:08.397107Z",
     "iopub.status.busy": "2021-02-16T01:37:08.396853Z",
     "iopub.status.idle": "2021-02-16T01:37:09.104363Z",
     "shell.execute_reply": "2021-02-16T01:37:09.103426Z",
     "shell.execute_reply.started": "2021-02-16T01:37:08.397078Z"
    }
   },
   "outputs": [
    {
     "data": {
      "text/html": [
       "<div>\n",
       "<style scoped>\n",
       "    .dataframe tbody tr th:only-of-type {\n",
       "        vertical-align: middle;\n",
       "    }\n",
       "\n",
       "    .dataframe tbody tr th {\n",
       "        vertical-align: top;\n",
       "    }\n",
       "\n",
       "    .dataframe thead th {\n",
       "        text-align: right;\n",
       "    }\n",
       "</style>\n",
       "<table border=\"1\" class=\"dataframe\">\n",
       "  <thead>\n",
       "    <tr style=\"text-align: right;\">\n",
       "      <th></th>\n",
       "      <th>ID</th>\n",
       "      <th>Funny</th>\n",
       "      <th>Beautiful</th>\n",
       "      <th>Ingenious</th>\n",
       "      <th>Courageous</th>\n",
       "      <th>Longwinded</th>\n",
       "      <th>Confusing</th>\n",
       "      <th>Informative</th>\n",
       "      <th>Fascinating</th>\n",
       "      <th>Unconvincing</th>\n",
       "      <th>Persuasive</th>\n",
       "      <th>Jaw-dropping</th>\n",
       "      <th>OK</th>\n",
       "      <th>Obnoxious</th>\n",
       "      <th>Inspiring</th>\n",
       "    </tr>\n",
       "  </thead>\n",
       "  <tbody>\n",
       "    <tr>\n",
       "      <th>0</th>\n",
       "      <td>0</td>\n",
       "      <td>19645</td>\n",
       "      <td>4573</td>\n",
       "      <td>6073</td>\n",
       "      <td>3253</td>\n",
       "      <td>387</td>\n",
       "      <td>242</td>\n",
       "      <td>7346</td>\n",
       "      <td>10581</td>\n",
       "      <td>300</td>\n",
       "      <td>10704</td>\n",
       "      <td>4439</td>\n",
       "      <td>1174</td>\n",
       "      <td>209</td>\n",
       "      <td>24924</td>\n",
       "    </tr>\n",
       "    <tr>\n",
       "      <th>1</th>\n",
       "      <td>1</td>\n",
       "      <td>544</td>\n",
       "      <td>58</td>\n",
       "      <td>56</td>\n",
       "      <td>139</td>\n",
       "      <td>113</td>\n",
       "      <td>62</td>\n",
       "      <td>443</td>\n",
       "      <td>132</td>\n",
       "      <td>258</td>\n",
       "      <td>268</td>\n",
       "      <td>116</td>\n",
       "      <td>203</td>\n",
       "      <td>131</td>\n",
       "      <td>413</td>\n",
       "    </tr>\n",
       "    <tr>\n",
       "      <th>2</th>\n",
       "      <td>2</td>\n",
       "      <td>964</td>\n",
       "      <td>60</td>\n",
       "      <td>183</td>\n",
       "      <td>45</td>\n",
       "      <td>78</td>\n",
       "      <td>27</td>\n",
       "      <td>395</td>\n",
       "      <td>166</td>\n",
       "      <td>104</td>\n",
       "      <td>230</td>\n",
       "      <td>54</td>\n",
       "      <td>146</td>\n",
       "      <td>142</td>\n",
       "      <td>230</td>\n",
       "    </tr>\n",
       "    <tr>\n",
       "      <th>3</th>\n",
       "      <td>3</td>\n",
       "      <td>59</td>\n",
       "      <td>291</td>\n",
       "      <td>105</td>\n",
       "      <td>760</td>\n",
       "      <td>53</td>\n",
       "      <td>32</td>\n",
       "      <td>380</td>\n",
       "      <td>132</td>\n",
       "      <td>36</td>\n",
       "      <td>460</td>\n",
       "      <td>230</td>\n",
       "      <td>85</td>\n",
       "      <td>35</td>\n",
       "      <td>1070</td>\n",
       "    </tr>\n",
       "    <tr>\n",
       "      <th>4</th>\n",
       "      <td>4</td>\n",
       "      <td>1390</td>\n",
       "      <td>942</td>\n",
       "      <td>3202</td>\n",
       "      <td>318</td>\n",
       "      <td>110</td>\n",
       "      <td>72</td>\n",
       "      <td>5433</td>\n",
       "      <td>4606</td>\n",
       "      <td>67</td>\n",
       "      <td>2542</td>\n",
       "      <td>3736</td>\n",
       "      <td>248</td>\n",
       "      <td>61</td>\n",
       "      <td>2893</td>\n",
       "    </tr>\n",
       "  </tbody>\n",
       "</table>\n",
       "</div>"
      ],
      "text/plain": [
       "   ID  Funny  Beautiful  Ingenious  Courageous  Longwinded  Confusing  \\\n",
       "0   0  19645       4573       6073        3253         387        242   \n",
       "1   1    544         58         56         139         113         62   \n",
       "2   2    964         60        183          45          78         27   \n",
       "3   3     59        291        105         760          53         32   \n",
       "4   4   1390        942       3202         318         110         72   \n",
       "\n",
       "   Informative  Fascinating  Unconvincing  Persuasive  Jaw-dropping    OK  \\\n",
       "0         7346        10581           300       10704          4439  1174   \n",
       "1          443          132           258         268           116   203   \n",
       "2          395          166           104         230            54   146   \n",
       "3          380          132            36         460           230    85   \n",
       "4         5433         4606            67        2542          3736   248   \n",
       "\n",
       "   Obnoxious  Inspiring  \n",
       "0        209      24924  \n",
       "1        131        413  \n",
       "2        142        230  \n",
       "3         35       1070  \n",
       "4         61       2893  "
      ]
     },
     "execution_count": 50,
     "metadata": {},
     "output_type": "execute_result"
    }
   ],
   "source": [
    "#Extracting ratings\n",
    "\n",
    "rating_data = defaultdict(list)\n",
    "for index, row in df_copy.iterrows():\n",
    "    rating = ast.literal_eval(row['ratings'])\n",
    "    rating_data['ID'].append(row['index'])\n",
    "    names = set()\n",
    "    for item in rating:\n",
    "        rating_data[item['name']].append(item['count'])\n",
    "        names.add(item['name'])\n",
    "\n",
    "rating_data = pd.DataFrame(rating_data)\n",
    "\n",
    "rating_data.head()"
   ]
  },
  {
   "cell_type": "code",
   "execution_count": 51,
   "metadata": {
    "execution": {
     "iopub.execute_input": "2021-02-16T01:37:11.156674Z",
     "iopub.status.busy": "2021-02-16T01:37:11.156386Z",
     "iopub.status.idle": "2021-02-16T01:37:11.495001Z",
     "shell.execute_reply": "2021-02-16T01:37:11.494434Z",
     "shell.execute_reply.started": "2021-02-16T01:37:11.156642Z"
    }
   },
   "outputs": [],
   "source": [
    "# Extracting tags\n",
    "\n",
    "tags_data = defaultdict(list)\n",
    "for index, row in df_copy.iterrows():\n",
    "    tags = ast.literal_eval(row['tags'])\n",
    "    for item in tags:\n",
    "        tags_data['ID'].append(row['index'])\n",
    "        tags_data['tags'].append(item)\n",
    "\n",
    "tags_data = pd.DataFrame(tags_data)"
   ]
  },
  {
   "cell_type": "code",
   "execution_count": 52,
   "metadata": {
    "execution": {
     "iopub.execute_input": "2021-02-16T01:37:11.727647Z",
     "iopub.status.busy": "2021-02-16T01:37:11.727430Z",
     "iopub.status.idle": "2021-02-16T01:37:11.736454Z",
     "shell.execute_reply": "2021-02-16T01:37:11.735759Z",
     "shell.execute_reply.started": "2021-02-16T01:37:11.727625Z"
    }
   },
   "outputs": [
    {
     "data": {
      "text/html": [
       "<div>\n",
       "<style scoped>\n",
       "    .dataframe tbody tr th:only-of-type {\n",
       "        vertical-align: middle;\n",
       "    }\n",
       "\n",
       "    .dataframe tbody tr th {\n",
       "        vertical-align: top;\n",
       "    }\n",
       "\n",
       "    .dataframe thead th {\n",
       "        text-align: right;\n",
       "    }\n",
       "</style>\n",
       "<table border=\"1\" class=\"dataframe\">\n",
       "  <thead>\n",
       "    <tr style=\"text-align: right;\">\n",
       "      <th></th>\n",
       "      <th>ID</th>\n",
       "      <th>tags</th>\n",
       "    </tr>\n",
       "  </thead>\n",
       "  <tbody>\n",
       "    <tr>\n",
       "      <th>7</th>\n",
       "      <td>1</td>\n",
       "      <td>alternative energy</td>\n",
       "    </tr>\n",
       "    <tr>\n",
       "      <th>8</th>\n",
       "      <td>1</td>\n",
       "      <td>cars</td>\n",
       "    </tr>\n",
       "    <tr>\n",
       "      <th>9</th>\n",
       "      <td>1</td>\n",
       "      <td>climate change</td>\n",
       "    </tr>\n",
       "    <tr>\n",
       "      <th>10</th>\n",
       "      <td>1</td>\n",
       "      <td>culture</td>\n",
       "    </tr>\n",
       "    <tr>\n",
       "      <th>11</th>\n",
       "      <td>1</td>\n",
       "      <td>environment</td>\n",
       "    </tr>\n",
       "    <tr>\n",
       "      <th>12</th>\n",
       "      <td>1</td>\n",
       "      <td>global issues</td>\n",
       "    </tr>\n",
       "    <tr>\n",
       "      <th>13</th>\n",
       "      <td>1</td>\n",
       "      <td>science</td>\n",
       "    </tr>\n",
       "    <tr>\n",
       "      <th>14</th>\n",
       "      <td>1</td>\n",
       "      <td>sustainability</td>\n",
       "    </tr>\n",
       "    <tr>\n",
       "      <th>15</th>\n",
       "      <td>1</td>\n",
       "      <td>technology</td>\n",
       "    </tr>\n",
       "  </tbody>\n",
       "</table>\n",
       "</div>"
      ],
      "text/plain": [
       "    ID                tags\n",
       "7    1  alternative energy\n",
       "8    1                cars\n",
       "9    1      climate change\n",
       "10   1             culture\n",
       "11   1         environment\n",
       "12   1       global issues\n",
       "13   1             science\n",
       "14   1      sustainability\n",
       "15   1          technology"
      ]
     },
     "execution_count": 52,
     "metadata": {},
     "output_type": "execute_result"
    }
   ],
   "source": [
    "tags_data[tags_data['ID']==1]"
   ]
  },
  {
   "cell_type": "code",
   "execution_count": 53,
   "metadata": {
    "execution": {
     "iopub.execute_input": "2021-02-16T01:37:14.646408Z",
     "iopub.status.busy": "2021-02-16T01:37:14.646201Z",
     "iopub.status.idle": "2021-02-16T01:37:16.772048Z",
     "shell.execute_reply": "2021-02-16T01:37:16.771238Z",
     "shell.execute_reply.started": "2021-02-16T01:37:14.646386Z"
    }
   },
   "outputs": [],
   "source": [
    "# Extracting related talks\n",
    "\n",
    "df_copy['related_views'] = 0\n",
    "df_copy['related_duration'] = 0\n",
    "for index, row in df_copy.iterrows():\n",
    "    rel = row['related_talks'].split(',')\n",
    "    ctr1 = 0\n",
    "    tot1 = 0\n",
    "    ctr2 = 0\n",
    "    tot2 = 0\n",
    "    for views in rel:\n",
    "        if 'viewed_count' in views:\n",
    "            view = views.split(':')\n",
    "            view[1] = view[1].replace(\"]\", \"\")\n",
    "            view[1] = view[1].replace(\" \", \"\")\n",
    "            view[1] = view[1].replace(\"}\", \"\")\n",
    "            tot1+=int(view[1])\n",
    "            ctr1+=1\n",
    "        if 'duration' in views:\n",
    "            view = views.split(':')\n",
    "            view[1] = view[1].replace(\"]\", \"\")\n",
    "            view[1] = view[1].replace(\" \", \"\")\n",
    "            view[1] = view[1].replace(\"}\", \"\")\n",
    "            tot2+=int(view[1])\n",
    "            ctr2+=1\n",
    "    df_copy['related_views'][index] = tot1/ctr1\n",
    "    df_copy['related_duration'][index] = tot2/ctr2"
   ]
  },
  {
   "cell_type": "code",
   "execution_count": 55,
   "metadata": {
    "execution": {
     "iopub.execute_input": "2021-02-16T01:37:20.443467Z",
     "iopub.status.busy": "2021-02-16T01:37:20.443267Z",
     "iopub.status.idle": "2021-02-16T01:37:20.457677Z",
     "shell.execute_reply": "2021-02-16T01:37:20.456928Z",
     "shell.execute_reply.started": "2021-02-16T01:37:20.443446Z"
    }
   },
   "outputs": [
    {
     "data": {
      "text/html": [
       "<div>\n",
       "<style scoped>\n",
       "    .dataframe tbody tr th:only-of-type {\n",
       "        vertical-align: middle;\n",
       "    }\n",
       "\n",
       "    .dataframe tbody tr th {\n",
       "        vertical-align: top;\n",
       "    }\n",
       "\n",
       "    .dataframe thead th {\n",
       "        text-align: right;\n",
       "    }\n",
       "</style>\n",
       "<table border=\"1\" class=\"dataframe\">\n",
       "  <thead>\n",
       "    <tr style=\"text-align: right;\">\n",
       "      <th></th>\n",
       "      <th>index</th>\n",
       "      <th>name</th>\n",
       "      <th>title</th>\n",
       "      <th>main_speaker</th>\n",
       "      <th>speaker_occupation</th>\n",
       "      <th>num_speaker</th>\n",
       "      <th>duration</th>\n",
       "      <th>event</th>\n",
       "      <th>film_date</th>\n",
       "      <th>published_date</th>\n",
       "      <th>comments</th>\n",
       "      <th>tags</th>\n",
       "      <th>languages</th>\n",
       "      <th>ratings</th>\n",
       "      <th>related_talks</th>\n",
       "      <th>views</th>\n",
       "      <th>related_views</th>\n",
       "      <th>related_duration</th>\n",
       "    </tr>\n",
       "  </thead>\n",
       "  <tbody>\n",
       "    <tr>\n",
       "      <th>0</th>\n",
       "      <td>0</td>\n",
       "      <td>Ken Robinson: Do schools kill creativity?</td>\n",
       "      <td>Do schools kill creativity?</td>\n",
       "      <td>Ken Robinson</td>\n",
       "      <td>Author/educator</td>\n",
       "      <td>1</td>\n",
       "      <td>19.40</td>\n",
       "      <td>TED2006</td>\n",
       "      <td>1140825600</td>\n",
       "      <td>1151367060</td>\n",
       "      <td>4553</td>\n",
       "      <td>['children', 'creativity', 'culture', 'dance',...</td>\n",
       "      <td>60</td>\n",
       "      <td>[{'id': 7, 'name': 'Funny', 'count': 19645}, {...</td>\n",
       "      <td>[{'id': 865, 'hero': 'https://pe.tedcdn.com/im...</td>\n",
       "      <td>47227110</td>\n",
       "      <td>3027062</td>\n",
       "      <td>921</td>\n",
       "    </tr>\n",
       "    <tr>\n",
       "      <th>1</th>\n",
       "      <td>1</td>\n",
       "      <td>Al Gore: Averting the climate crisis</td>\n",
       "      <td>Averting the climate crisis</td>\n",
       "      <td>Al Gore</td>\n",
       "      <td>Climate advocate</td>\n",
       "      <td>1</td>\n",
       "      <td>16.28</td>\n",
       "      <td>TED2006</td>\n",
       "      <td>1140825600</td>\n",
       "      <td>1151367060</td>\n",
       "      <td>265</td>\n",
       "      <td>['alternative energy', 'cars', 'climate change...</td>\n",
       "      <td>43</td>\n",
       "      <td>[{'id': 7, 'name': 'Funny', 'count': 544}, {'i...</td>\n",
       "      <td>[{'id': 243, 'hero': 'https://pe.tedcdn.com/im...</td>\n",
       "      <td>3200520</td>\n",
       "      <td>1118767</td>\n",
       "      <td>1096</td>\n",
       "    </tr>\n",
       "    <tr>\n",
       "      <th>2</th>\n",
       "      <td>2</td>\n",
       "      <td>David Pogue: Simplicity sells</td>\n",
       "      <td>Simplicity sells</td>\n",
       "      <td>David Pogue</td>\n",
       "      <td>Technology columnist</td>\n",
       "      <td>1</td>\n",
       "      <td>21.43</td>\n",
       "      <td>TED2006</td>\n",
       "      <td>1140739200</td>\n",
       "      <td>1151367060</td>\n",
       "      <td>124</td>\n",
       "      <td>['computers', 'entertainment', 'interface desi...</td>\n",
       "      <td>26</td>\n",
       "      <td>[{'id': 7, 'name': 'Funny', 'count': 964}, {'i...</td>\n",
       "      <td>[{'id': 1725, 'hero': 'https://pe.tedcdn.com/i...</td>\n",
       "      <td>1636292</td>\n",
       "      <td>1846195</td>\n",
       "      <td>915</td>\n",
       "    </tr>\n",
       "  </tbody>\n",
       "</table>\n",
       "</div>"
      ],
      "text/plain": [
       "   index                                       name  \\\n",
       "0      0  Ken Robinson: Do schools kill creativity?   \n",
       "1      1       Al Gore: Averting the climate crisis   \n",
       "2      2              David Pogue: Simplicity sells   \n",
       "\n",
       "                         title  main_speaker    speaker_occupation  \\\n",
       "0  Do schools kill creativity?  Ken Robinson       Author/educator   \n",
       "1  Averting the climate crisis       Al Gore      Climate advocate   \n",
       "2             Simplicity sells   David Pogue  Technology columnist   \n",
       "\n",
       "   num_speaker  duration    event   film_date  published_date  comments  \\\n",
       "0            1     19.40  TED2006  1140825600      1151367060      4553   \n",
       "1            1     16.28  TED2006  1140825600      1151367060       265   \n",
       "2            1     21.43  TED2006  1140739200      1151367060       124   \n",
       "\n",
       "                                                tags  languages  \\\n",
       "0  ['children', 'creativity', 'culture', 'dance',...         60   \n",
       "1  ['alternative energy', 'cars', 'climate change...         43   \n",
       "2  ['computers', 'entertainment', 'interface desi...         26   \n",
       "\n",
       "                                             ratings  \\\n",
       "0  [{'id': 7, 'name': 'Funny', 'count': 19645}, {...   \n",
       "1  [{'id': 7, 'name': 'Funny', 'count': 544}, {'i...   \n",
       "2  [{'id': 7, 'name': 'Funny', 'count': 964}, {'i...   \n",
       "\n",
       "                                       related_talks     views  related_views  \\\n",
       "0  [{'id': 865, 'hero': 'https://pe.tedcdn.com/im...  47227110        3027062   \n",
       "1  [{'id': 243, 'hero': 'https://pe.tedcdn.com/im...   3200520        1118767   \n",
       "2  [{'id': 1725, 'hero': 'https://pe.tedcdn.com/i...   1636292        1846195   \n",
       "\n",
       "   related_duration  \n",
       "0               921  \n",
       "1              1096  \n",
       "2               915  "
      ]
     },
     "execution_count": 55,
     "metadata": {},
     "output_type": "execute_result"
    }
   ],
   "source": [
    "df_copy.head(3)"
   ]
  },
  {
   "cell_type": "code",
   "execution_count": 56,
   "metadata": {
    "execution": {
     "iopub.execute_input": "2021-02-16T01:37:23.118129Z",
     "iopub.status.busy": "2021-02-16T01:37:23.117871Z",
     "iopub.status.idle": "2021-02-16T01:37:24.095735Z",
     "shell.execute_reply": "2021-02-16T01:37:24.095151Z",
     "shell.execute_reply.started": "2021-02-16T01:37:23.118101Z"
    }
   },
   "outputs": [],
   "source": [
    "df_copy['event_category'] = 'Other'\n",
    "\n",
    "for i in range(len(df_copy)):\n",
    "    if df_copy['event'][i][0:5]=='TED20':\n",
    "        df_copy['event_category'][i] = 'TED2000s'\n",
    "    elif df_copy['event'][i][0:5]=='TED19':\n",
    "        df_copy['event_category'][i] = 'TED1900s'\n",
    "    elif df_copy['event'][i][0:4]=='TEDx':\n",
    "        df_copy['event_category'][i] = \"TEDx\"\n",
    "    elif df_copy['event'][i][0:7]=='TED@BCG':\n",
    "        df_copy['event_category'][i] = 'TED@BCG'\n",
    "    elif df_copy['event'][i][0:4]=='TED@':\n",
    "        df_copy['event_category'][i] = \"TED@\"\n",
    "    elif df_copy['event'][i][0:8]=='TEDSalon':\n",
    "        df_copy['event_category'][i] = \"TEDSalon\"\n",
    "    elif df_copy['event'][i][0:9]=='TEDGlobal':\n",
    "        df_copy['event_category'][i] = 'TEDGlobal'\n",
    "    elif df_copy['event'][i][0:8]=='TEDWomen':\n",
    "        df_copy['event_category'][i] = 'TEDWomen'\n",
    "    elif df_copy['event'][i][0:6]=='TEDMED':\n",
    "        df_copy['event_category'][i] = 'TEDMED'\n",
    "    elif df_copy['event'][i][0:3]=='TED':\n",
    "        df_copy['event_category'][i] = 'TEDOther'"
   ]
  },
  {
   "cell_type": "code",
   "execution_count": 57,
   "metadata": {
    "execution": {
     "iopub.execute_input": "2021-02-16T01:37:24.438547Z",
     "iopub.status.busy": "2021-02-16T01:37:24.438282Z",
     "iopub.status.idle": "2021-02-16T01:37:24.457969Z",
     "shell.execute_reply": "2021-02-16T01:37:24.457244Z",
     "shell.execute_reply.started": "2021-02-16T01:37:24.438518Z"
    }
   },
   "outputs": [],
   "source": [
    "# Convert timestamp into readable format\n",
    "\n",
    "import datetime\n",
    "\n",
    "df_copy['published_date'] = df_copy['published_date'].apply(lambda x: datetime.date.fromtimestamp(int(x)))\n",
    "df_copy['day'] = df_copy['published_date'].apply(lambda x: x.weekday())\n",
    "df_copy['month'] = df_copy['published_date'].apply(lambda x: x.month)\n",
    "df_copy['year'] = df_copy['published_date'].apply(lambda x: x.year)\n",
    "df_copy['film_date'] = df_copy['film_date'].apply(lambda x: datetime.date.fromtimestamp(int(x)))\n",
    "df_copy['day_film'] = df_copy['film_date'].apply(lambda x: x.weekday())\n",
    "df_copy['month_film'] = df_copy['film_date'].apply(lambda x: x.month)\n",
    "df_copy['year_film'] = df_copy['film_date'].apply(lambda x: x.year)"
   ]
  },
  {
   "cell_type": "code",
   "execution_count": 58,
   "metadata": {
    "execution": {
     "iopub.execute_input": "2021-02-16T01:37:25.140296Z",
     "iopub.status.busy": "2021-02-16T01:37:25.140044Z",
     "iopub.status.idle": "2021-02-16T01:37:25.149834Z",
     "shell.execute_reply": "2021-02-16T01:37:25.149214Z",
     "shell.execute_reply.started": "2021-02-16T01:37:25.140268Z"
    }
   },
   "outputs": [],
   "source": [
    "to_cat = {\"day\":   {0: \"Monday\", 1: \"Tuesday\", 2: \"Wednesday\", 3: \"Thurday\", 4: \"Friday\", 5: \"Saturday\",\n",
    "                    6: \"Sunday\" },\n",
    "          \"day_film\":   {0: \"Monday\", 1: \"Tuesday\", 2: \"Wednesday\", 3: \"Thurday\", 4: \"Friday\", 5: \"Saturday\",\n",
    "                    6: \"Sunday\" }}\n",
    "\n",
    "df_copy.replace(to_cat, inplace=True)"
   ]
  },
  {
   "cell_type": "code",
   "execution_count": 60,
   "metadata": {
    "execution": {
     "iopub.execute_input": "2021-02-16T01:37:31.478502Z",
     "iopub.status.busy": "2021-02-16T01:37:31.478296Z",
     "iopub.status.idle": "2021-02-16T01:37:31.498386Z",
     "shell.execute_reply": "2021-02-16T01:37:31.497849Z",
     "shell.execute_reply.started": "2021-02-16T01:37:31.478480Z"
    }
   },
   "outputs": [
    {
     "data": {
      "text/html": [
       "<div>\n",
       "<style scoped>\n",
       "    .dataframe tbody tr th:only-of-type {\n",
       "        vertical-align: middle;\n",
       "    }\n",
       "\n",
       "    .dataframe tbody tr th {\n",
       "        vertical-align: top;\n",
       "    }\n",
       "\n",
       "    .dataframe thead th {\n",
       "        text-align: right;\n",
       "    }\n",
       "</style>\n",
       "<table border=\"1\" class=\"dataframe\">\n",
       "  <thead>\n",
       "    <tr style=\"text-align: right;\">\n",
       "      <th></th>\n",
       "      <th>index</th>\n",
       "      <th>name</th>\n",
       "      <th>title</th>\n",
       "      <th>main_speaker</th>\n",
       "      <th>speaker_occupation</th>\n",
       "      <th>num_speaker</th>\n",
       "      <th>duration</th>\n",
       "      <th>event</th>\n",
       "      <th>film_date</th>\n",
       "      <th>published_date</th>\n",
       "      <th>...</th>\n",
       "      <th>views</th>\n",
       "      <th>related_views</th>\n",
       "      <th>related_duration</th>\n",
       "      <th>event_category</th>\n",
       "      <th>day</th>\n",
       "      <th>month</th>\n",
       "      <th>year</th>\n",
       "      <th>day_film</th>\n",
       "      <th>month_film</th>\n",
       "      <th>year_film</th>\n",
       "    </tr>\n",
       "  </thead>\n",
       "  <tbody>\n",
       "    <tr>\n",
       "      <th>0</th>\n",
       "      <td>0</td>\n",
       "      <td>Ken Robinson: Do schools kill creativity?</td>\n",
       "      <td>Do schools kill creativity?</td>\n",
       "      <td>Ken Robinson</td>\n",
       "      <td>Author/educator</td>\n",
       "      <td>1</td>\n",
       "      <td>19.40</td>\n",
       "      <td>TED2006</td>\n",
       "      <td>2006-02-24</td>\n",
       "      <td>2006-06-26</td>\n",
       "      <td>...</td>\n",
       "      <td>47227110</td>\n",
       "      <td>3027062</td>\n",
       "      <td>921</td>\n",
       "      <td>TED2000s</td>\n",
       "      <td>Monday</td>\n",
       "      <td>6</td>\n",
       "      <td>2006</td>\n",
       "      <td>Friday</td>\n",
       "      <td>2</td>\n",
       "      <td>2006</td>\n",
       "    </tr>\n",
       "    <tr>\n",
       "      <th>1</th>\n",
       "      <td>1</td>\n",
       "      <td>Al Gore: Averting the climate crisis</td>\n",
       "      <td>Averting the climate crisis</td>\n",
       "      <td>Al Gore</td>\n",
       "      <td>Climate advocate</td>\n",
       "      <td>1</td>\n",
       "      <td>16.28</td>\n",
       "      <td>TED2006</td>\n",
       "      <td>2006-02-24</td>\n",
       "      <td>2006-06-26</td>\n",
       "      <td>...</td>\n",
       "      <td>3200520</td>\n",
       "      <td>1118767</td>\n",
       "      <td>1096</td>\n",
       "      <td>TED2000s</td>\n",
       "      <td>Monday</td>\n",
       "      <td>6</td>\n",
       "      <td>2006</td>\n",
       "      <td>Friday</td>\n",
       "      <td>2</td>\n",
       "      <td>2006</td>\n",
       "    </tr>\n",
       "    <tr>\n",
       "      <th>2</th>\n",
       "      <td>2</td>\n",
       "      <td>David Pogue: Simplicity sells</td>\n",
       "      <td>Simplicity sells</td>\n",
       "      <td>David Pogue</td>\n",
       "      <td>Technology columnist</td>\n",
       "      <td>1</td>\n",
       "      <td>21.43</td>\n",
       "      <td>TED2006</td>\n",
       "      <td>2006-02-23</td>\n",
       "      <td>2006-06-26</td>\n",
       "      <td>...</td>\n",
       "      <td>1636292</td>\n",
       "      <td>1846195</td>\n",
       "      <td>915</td>\n",
       "      <td>TED2000s</td>\n",
       "      <td>Monday</td>\n",
       "      <td>6</td>\n",
       "      <td>2006</td>\n",
       "      <td>Thurday</td>\n",
       "      <td>2</td>\n",
       "      <td>2006</td>\n",
       "    </tr>\n",
       "  </tbody>\n",
       "</table>\n",
       "<p>3 rows × 25 columns</p>\n",
       "</div>"
      ],
      "text/plain": [
       "   index                                       name  \\\n",
       "0      0  Ken Robinson: Do schools kill creativity?   \n",
       "1      1       Al Gore: Averting the climate crisis   \n",
       "2      2              David Pogue: Simplicity sells   \n",
       "\n",
       "                         title  main_speaker    speaker_occupation  \\\n",
       "0  Do schools kill creativity?  Ken Robinson       Author/educator   \n",
       "1  Averting the climate crisis       Al Gore      Climate advocate   \n",
       "2             Simplicity sells   David Pogue  Technology columnist   \n",
       "\n",
       "   num_speaker  duration    event   film_date published_date  ...     views  \\\n",
       "0            1     19.40  TED2006  2006-02-24     2006-06-26  ...  47227110   \n",
       "1            1     16.28  TED2006  2006-02-24     2006-06-26  ...   3200520   \n",
       "2            1     21.43  TED2006  2006-02-23     2006-06-26  ...   1636292   \n",
       "\n",
       "  related_views  related_duration event_category     day  month  year  \\\n",
       "0       3027062               921       TED2000s  Monday      6  2006   \n",
       "1       1118767              1096       TED2000s  Monday      6  2006   \n",
       "2       1846195               915       TED2000s  Monday      6  2006   \n",
       "\n",
       "   day_film month_film year_film  \n",
       "0    Friday          2      2006  \n",
       "1    Friday          2      2006  \n",
       "2   Thurday          2      2006  \n",
       "\n",
       "[3 rows x 25 columns]"
      ]
     },
     "execution_count": 60,
     "metadata": {},
     "output_type": "execute_result"
    }
   ],
   "source": [
    "df_copy.head(3)"
   ]
  },
  {
   "cell_type": "code",
   "execution_count": 61,
   "metadata": {
    "execution": {
     "iopub.execute_input": "2021-02-16T01:37:33.856742Z",
     "iopub.status.busy": "2021-02-16T01:37:33.856415Z",
     "iopub.status.idle": "2021-02-16T01:37:33.865184Z",
     "shell.execute_reply": "2021-02-16T01:37:33.864476Z",
     "shell.execute_reply.started": "2021-02-16T01:37:33.856697Z"
    }
   },
   "outputs": [],
   "source": [
    "temp = tags_data.groupby(['tags']).count()\n",
    "temp = temp.sort_values(by='ID',ascending=False)"
   ]
  },
  {
   "cell_type": "code",
   "execution_count": 63,
   "metadata": {
    "execution": {
     "iopub.execute_input": "2021-02-16T01:37:40.843322Z",
     "iopub.status.busy": "2021-02-16T01:37:40.843119Z",
     "iopub.status.idle": "2021-02-16T01:37:40.849628Z",
     "shell.execute_reply": "2021-02-16T01:37:40.848878Z",
     "shell.execute_reply.started": "2021-02-16T01:37:40.843301Z"
    }
   },
   "outputs": [
    {
     "data": {
      "text/html": [
       "<div>\n",
       "<style scoped>\n",
       "    .dataframe tbody tr th:only-of-type {\n",
       "        vertical-align: middle;\n",
       "    }\n",
       "\n",
       "    .dataframe tbody tr th {\n",
       "        vertical-align: top;\n",
       "    }\n",
       "\n",
       "    .dataframe thead th {\n",
       "        text-align: right;\n",
       "    }\n",
       "</style>\n",
       "<table border=\"1\" class=\"dataframe\">\n",
       "  <thead>\n",
       "    <tr style=\"text-align: right;\">\n",
       "      <th></th>\n",
       "      <th>ID</th>\n",
       "    </tr>\n",
       "    <tr>\n",
       "      <th>tags</th>\n",
       "      <th></th>\n",
       "    </tr>\n",
       "  </thead>\n",
       "  <tbody>\n",
       "    <tr>\n",
       "      <th>technology</th>\n",
       "      <td>701</td>\n",
       "    </tr>\n",
       "    <tr>\n",
       "      <th>science</th>\n",
       "      <td>534</td>\n",
       "    </tr>\n",
       "    <tr>\n",
       "      <th>global issues</th>\n",
       "      <td>478</td>\n",
       "    </tr>\n",
       "  </tbody>\n",
       "</table>\n",
       "</div>"
      ],
      "text/plain": [
       "                ID\n",
       "tags              \n",
       "technology     701\n",
       "science        534\n",
       "global issues  478"
      ]
     },
     "execution_count": 63,
     "metadata": {},
     "output_type": "execute_result"
    }
   ],
   "source": [
    "temp.head(3)"
   ]
  },
  {
   "cell_type": "code",
   "execution_count": 64,
   "metadata": {
    "execution": {
     "iopub.execute_input": "2021-02-16T01:37:44.172072Z",
     "iopub.status.busy": "2021-02-16T01:37:44.171797Z",
     "iopub.status.idle": "2021-02-16T01:37:48.046538Z",
     "shell.execute_reply": "2021-02-16T01:37:48.045780Z",
     "shell.execute_reply.started": "2021-02-16T01:37:44.172043Z"
    }
   },
   "outputs": [],
   "source": [
    "# Creating Tag Categories\n",
    "\n",
    "df_copy['Technology/Science'] = 0\n",
    "df_copy['Humanity'] = 0\n",
    "df_copy['Global Issues'] = 0\n",
    "df_copy['Art/Creativity'] = 0\n",
    "df_copy['Business'] = 0\n",
    "df_copy['Entertainment'] = 0\n",
    "df_copy['Health'] = 0\n",
    "df_copy['Communication'] = 0\n",
    "df_copy['Education']=0\n",
    "\n",
    "Tech = ['technology','future','comuters','science','invention','research']\n",
    "Humanity = ['community','society','social change','humanity','culture']\n",
    "Global_Issues = ['global issues','activism','politics','inequality','environment','climate change']\n",
    "Art = ['design','art','innovation','creativity','brain']\n",
    "Business = ['business','economics']\n",
    "Entertainment = ['entertainment','media','sports']\n",
    "Health = ['health','biollogy','medicine','health care','medical research']\n",
    "Communication = ['communication','collaboration']\n",
    "Education = ['children','education','teaching','parenting']\n",
    "\n",
    "\n",
    "for i in range(len(tags_data)):\n",
    "    index = tags_data['ID'][i]\n",
    "    if tags_data['tags'][i] in Tech:\n",
    "        df_copy['Technology/Science'][index]=1\n",
    "    if tags_data['tags'][i] in Humanity:\n",
    "        df_copy['Humanity'][index]=1\n",
    "    if tags_data['tags'][i] in Global_Issues:\n",
    "        df_copy['Global Issues'][index]=1\n",
    "    if tags_data['tags'][i] in Art:\n",
    "        df_copy['Art/Creativity'][index]=1\n",
    "    if tags_data['tags'][i] in Business:\n",
    "        df_copy['Business'][index]=1\n",
    "    if tags_data['tags'][i] in Entertainment:\n",
    "        df_copy['Entertainment'][index]=1\n",
    "    if tags_data['tags'][i] in Health:\n",
    "        df_copy['Health'][index]=1\n",
    "    if tags_data['tags'][i] in Communication:\n",
    "        df_copy['Communication'][index]=1\n",
    "    if tags_data['tags'][i] in Education:\n",
    "        df_copy['Education'][index]=1"
   ]
  },
  {
   "cell_type": "code",
   "execution_count": 65,
   "metadata": {
    "execution": {
     "iopub.execute_input": "2021-02-16T01:37:48.048170Z",
     "iopub.status.busy": "2021-02-16T01:37:48.047780Z",
     "iopub.status.idle": "2021-02-16T01:37:48.055137Z",
     "shell.execute_reply": "2021-02-16T01:37:48.054484Z",
     "shell.execute_reply.started": "2021-02-16T01:37:48.048140Z"
    }
   },
   "outputs": [],
   "source": [
    "df_copy = df_copy.drop(['index','comments', 'event', 'film_date', 'main_speaker', 'name', 'published_date', 'ratings', \n",
    "           'related_talks', 'tags', 'title','speaker_occupation'], 1)"
   ]
  },
  {
   "cell_type": "code",
   "execution_count": 66,
   "metadata": {
    "execution": {
     "iopub.execute_input": "2021-02-16T01:37:48.057017Z",
     "iopub.status.busy": "2021-02-16T01:37:48.056781Z",
     "iopub.status.idle": "2021-02-16T01:37:48.073060Z",
     "shell.execute_reply": "2021-02-16T01:37:48.072346Z",
     "shell.execute_reply.started": "2021-02-16T01:37:48.056970Z"
    }
   },
   "outputs": [
    {
     "data": {
      "text/html": [
       "<div>\n",
       "<style scoped>\n",
       "    .dataframe tbody tr th:only-of-type {\n",
       "        vertical-align: middle;\n",
       "    }\n",
       "\n",
       "    .dataframe tbody tr th {\n",
       "        vertical-align: top;\n",
       "    }\n",
       "\n",
       "    .dataframe thead th {\n",
       "        text-align: right;\n",
       "    }\n",
       "</style>\n",
       "<table border=\"1\" class=\"dataframe\">\n",
       "  <thead>\n",
       "    <tr style=\"text-align: right;\">\n",
       "      <th></th>\n",
       "      <th>num_speaker</th>\n",
       "      <th>duration</th>\n",
       "      <th>languages</th>\n",
       "      <th>views</th>\n",
       "      <th>related_views</th>\n",
       "      <th>related_duration</th>\n",
       "      <th>event_category</th>\n",
       "      <th>day</th>\n",
       "      <th>month</th>\n",
       "      <th>year</th>\n",
       "      <th>...</th>\n",
       "      <th>year_film</th>\n",
       "      <th>Technology/Science</th>\n",
       "      <th>Humanity</th>\n",
       "      <th>Global Issues</th>\n",
       "      <th>Art/Creativity</th>\n",
       "      <th>Business</th>\n",
       "      <th>Entertainment</th>\n",
       "      <th>Health</th>\n",
       "      <th>Communication</th>\n",
       "      <th>Education</th>\n",
       "    </tr>\n",
       "  </thead>\n",
       "  <tbody>\n",
       "    <tr>\n",
       "      <th>0</th>\n",
       "      <td>1</td>\n",
       "      <td>19.40</td>\n",
       "      <td>60</td>\n",
       "      <td>47227110</td>\n",
       "      <td>3027062</td>\n",
       "      <td>921</td>\n",
       "      <td>TED2000s</td>\n",
       "      <td>Monday</td>\n",
       "      <td>6</td>\n",
       "      <td>2006</td>\n",
       "      <td>...</td>\n",
       "      <td>2006</td>\n",
       "      <td>0</td>\n",
       "      <td>1</td>\n",
       "      <td>0</td>\n",
       "      <td>1</td>\n",
       "      <td>0</td>\n",
       "      <td>0</td>\n",
       "      <td>0</td>\n",
       "      <td>0</td>\n",
       "      <td>1</td>\n",
       "    </tr>\n",
       "    <tr>\n",
       "      <th>1</th>\n",
       "      <td>1</td>\n",
       "      <td>16.28</td>\n",
       "      <td>43</td>\n",
       "      <td>3200520</td>\n",
       "      <td>1118767</td>\n",
       "      <td>1096</td>\n",
       "      <td>TED2000s</td>\n",
       "      <td>Monday</td>\n",
       "      <td>6</td>\n",
       "      <td>2006</td>\n",
       "      <td>...</td>\n",
       "      <td>2006</td>\n",
       "      <td>1</td>\n",
       "      <td>1</td>\n",
       "      <td>1</td>\n",
       "      <td>0</td>\n",
       "      <td>0</td>\n",
       "      <td>0</td>\n",
       "      <td>0</td>\n",
       "      <td>0</td>\n",
       "      <td>0</td>\n",
       "    </tr>\n",
       "    <tr>\n",
       "      <th>2</th>\n",
       "      <td>1</td>\n",
       "      <td>21.43</td>\n",
       "      <td>26</td>\n",
       "      <td>1636292</td>\n",
       "      <td>1846195</td>\n",
       "      <td>915</td>\n",
       "      <td>TED2000s</td>\n",
       "      <td>Monday</td>\n",
       "      <td>6</td>\n",
       "      <td>2006</td>\n",
       "      <td>...</td>\n",
       "      <td>2006</td>\n",
       "      <td>1</td>\n",
       "      <td>0</td>\n",
       "      <td>0</td>\n",
       "      <td>0</td>\n",
       "      <td>0</td>\n",
       "      <td>1</td>\n",
       "      <td>0</td>\n",
       "      <td>0</td>\n",
       "      <td>0</td>\n",
       "    </tr>\n",
       "    <tr>\n",
       "      <th>3</th>\n",
       "      <td>1</td>\n",
       "      <td>18.60</td>\n",
       "      <td>35</td>\n",
       "      <td>1697550</td>\n",
       "      <td>776189</td>\n",
       "      <td>748</td>\n",
       "      <td>TED2000s</td>\n",
       "      <td>Monday</td>\n",
       "      <td>6</td>\n",
       "      <td>2006</td>\n",
       "      <td>...</td>\n",
       "      <td>2006</td>\n",
       "      <td>0</td>\n",
       "      <td>0</td>\n",
       "      <td>1</td>\n",
       "      <td>0</td>\n",
       "      <td>1</td>\n",
       "      <td>0</td>\n",
       "      <td>0</td>\n",
       "      <td>0</td>\n",
       "      <td>0</td>\n",
       "    </tr>\n",
       "    <tr>\n",
       "      <th>4</th>\n",
       "      <td>1</td>\n",
       "      <td>19.83</td>\n",
       "      <td>48</td>\n",
       "      <td>12005869</td>\n",
       "      <td>1907337</td>\n",
       "      <td>943</td>\n",
       "      <td>TED2000s</td>\n",
       "      <td>Tuesday</td>\n",
       "      <td>6</td>\n",
       "      <td>2006</td>\n",
       "      <td>...</td>\n",
       "      <td>2006</td>\n",
       "      <td>0</td>\n",
       "      <td>0</td>\n",
       "      <td>1</td>\n",
       "      <td>0</td>\n",
       "      <td>1</td>\n",
       "      <td>0</td>\n",
       "      <td>1</td>\n",
       "      <td>0</td>\n",
       "      <td>0</td>\n",
       "    </tr>\n",
       "  </tbody>\n",
       "</table>\n",
       "<p>5 rows × 22 columns</p>\n",
       "</div>"
      ],
      "text/plain": [
       "   num_speaker  duration  languages     views  related_views  \\\n",
       "0            1     19.40         60  47227110        3027062   \n",
       "1            1     16.28         43   3200520        1118767   \n",
       "2            1     21.43         26   1636292        1846195   \n",
       "3            1     18.60         35   1697550         776189   \n",
       "4            1     19.83         48  12005869        1907337   \n",
       "\n",
       "   related_duration event_category      day  month  year  ... year_film  \\\n",
       "0               921       TED2000s   Monday      6  2006  ...      2006   \n",
       "1              1096       TED2000s   Monday      6  2006  ...      2006   \n",
       "2               915       TED2000s   Monday      6  2006  ...      2006   \n",
       "3               748       TED2000s   Monday      6  2006  ...      2006   \n",
       "4               943       TED2000s  Tuesday      6  2006  ...      2006   \n",
       "\n",
       "   Technology/Science  Humanity  Global Issues  Art/Creativity  Business  \\\n",
       "0                   0         1              0               1         0   \n",
       "1                   1         1              1               0         0   \n",
       "2                   1         0              0               0         0   \n",
       "3                   0         0              1               0         1   \n",
       "4                   0         0              1               0         1   \n",
       "\n",
       "   Entertainment  Health  Communication  Education  \n",
       "0              0       0              0          1  \n",
       "1              0       0              0          0  \n",
       "2              1       0              0          0  \n",
       "3              0       0              0          0  \n",
       "4              0       1              0          0  \n",
       "\n",
       "[5 rows x 22 columns]"
      ]
     },
     "execution_count": 66,
     "metadata": {},
     "output_type": "execute_result"
    }
   ],
   "source": [
    "df_copy.head()"
   ]
  },
  {
   "cell_type": "code",
   "execution_count": 32,
   "metadata": {
    "execution": {
     "iopub.execute_input": "2021-02-16T01:34:34.050726Z",
     "iopub.status.busy": "2021-02-16T01:34:34.050525Z",
     "iopub.status.idle": "2021-02-16T01:34:34.055199Z",
     "shell.execute_reply": "2021-02-16T01:34:34.054403Z",
     "shell.execute_reply.started": "2021-02-16T01:34:34.050703Z"
    }
   },
   "outputs": [
    {
     "data": {
      "text/plain": [
       "\"\\nimport pandas_profiling\\nfrom pandas_profiling import ProfileReport\\nprofile = ProfileReport(df_copy, title='Pandas Profiling Report', html={'style':{'full_width':True}})\\nprofile\\n\""
      ]
     },
     "execution_count": 32,
     "metadata": {},
     "output_type": "execute_result"
    }
   ],
   "source": [
    "#### Not wroking\n",
    "'''\n",
    "import pandas_profiling\n",
    "from pandas_profiling import ProfileReport\n",
    "profile = ProfileReport(df_copy, title='Pandas Profiling Report', html={'style':{'full_width':True}})\n",
    "profile\n",
    "'''\n",
    "#### Not wroking"
   ]
  },
  {
   "cell_type": "markdown",
   "metadata": {},
   "source": [
    "---"
   ]
  },
  {
   "cell_type": "markdown",
   "metadata": {},
   "source": [
    "# II - Split Data"
   ]
  },
  {
   "cell_type": "markdown",
   "metadata": {},
   "source": [
    "Due to the nature of the dataset, we decided to use a time based cross validation approach. The data itself is not time-series but still has a time dimension aspect (the date of the Ted Talk itself) which can be quite insightful for the current model we are building. \n",
    "\n",
    "With the evolving popularity, environment, and subjects of TedTalks, it is best to use time-based splitting to build statistically robust models and follow up with time based cross validations to evaluate the performance of our final model. \n",
    "\n",
    "The basis of the splits for the train and test data will be the year of release, with consideration with the amount of talks in each year to ensure a 80% and 20% split for training and test, respectively. \n",
    "\n",
    "###### References:  (which we can add at the end when we are done)<br>\n",
    "+ https://medium.com/eatpredlove/time-series-cross-validation-a-walk-forward-approach-in-python-8534dd1db51a <br>\n",
    "+ https://towardsdatascience.com/time-based-cross-validation-d259b13d42b8\n",
    "+ https://medium.com/keita-starts-data-science/time-series-split-with-scikit-learn-74f5be38489e"
   ]
  },
  {
   "cell_type": "code",
   "execution_count": 67,
   "metadata": {
    "execution": {
     "iopub.execute_input": "2021-02-16T01:38:10.233380Z",
     "iopub.status.busy": "2021-02-16T01:38:10.233172Z",
     "iopub.status.idle": "2021-02-16T01:38:10.240944Z",
     "shell.execute_reply": "2021-02-16T01:38:10.240361Z",
     "shell.execute_reply.started": "2021-02-16T01:38:10.233359Z"
    }
   },
   "outputs": [
    {
     "data": {
      "text/plain": [
       "2006     50\n",
       "2007    121\n",
       "2008    162\n",
       "2009    205\n",
       "2010    216\n",
       "2011    248\n",
       "2012    303\n",
       "2013    243\n",
       "2014    240\n",
       "2015    215\n",
       "2016    239\n",
       "2017    197\n",
       "Name: year, dtype: int64"
      ]
     },
     "execution_count": 67,
     "metadata": {},
     "output_type": "execute_result"
    }
   ],
   "source": [
    "df_copy.year.value_counts().sort_index()"
   ]
  },
  {
   "cell_type": "markdown",
   "metadata": {},
   "source": [
    "#### First split: Training data for model building and cross validation and Test or \"New data\" -- data only used for final model evaluation\n",
    "\n",
    "+ Total number of observations: 2439\n",
    "+ Train (80%) = roughly 1952 observations\n",
    "+ Test (20%) = roughly 486 observations\n",
    "\n",
    "Thus, based on the number of observations from each year, the first split will be \n",
    "+ Train : Ted Talks from 2006 until 2015 (2003 observations)\n",
    "+ Test: Ted Talks from 2016 and 2017 (436 observations)\n",
    "\n",
    "\n",
    "#### Second split: Data for model building and cross validation\n",
    "+ Total number of observations of the train set : 2003 observations\n",
    "+ Train 2 set split (80%) : Ted talks from 2006 - 2013 (1548 observations)\n",
    "+ Test 2 set split (20%) : Ted talks from 2014 - 2015 (455 observations) \n"
   ]
  },
  {
   "attachments": {
    "image.png": {
     "image/png": "[encoded data removed]"
    }
   },
   "cell_type": "markdown",
   "metadata": {},
   "source": [
    "![image.png](attachment:image.png)"
   ]
  },
  {
   "cell_type": "markdown",
   "metadata": {},
   "source": [
    "### First split:\n",
    "\n",
    "We perform the first split now, and do not touch the test data until the end. We perform our second split of the training dataset right before modeling."
   ]
  },
  {
   "cell_type": "code",
   "execution_count": 461,
   "metadata": {
    "execution": {
     "iopub.execute_input": "2021-02-16T05:30:53.457339Z",
     "iopub.status.busy": "2021-02-16T05:30:53.457083Z",
     "iopub.status.idle": "2021-02-16T05:30:53.470388Z",
     "shell.execute_reply": "2021-02-16T05:30:53.469712Z",
     "shell.execute_reply.started": "2021-02-16T05:30:53.457311Z"
    }
   },
   "outputs": [],
   "source": [
    "#Train data that will further be split into train and test for model building and evaluation\n",
    "train = df_copy[(df_copy[\"year\"] >= 2006) & (df_copy[\"year\"] <= 2015)]\n",
    "\n",
    "# Test data (\"new data\") -- will be set aside and only be used for final model evaluation\n",
    "test = df_copy[(df_copy[\"year\"]) >= 2016]  "
   ]
  },
  {
   "cell_type": "markdown",
   "metadata": {},
   "source": [
    "---"
   ]
  },
  {
   "cell_type": "markdown",
   "metadata": {},
   "source": [
    "# III - Exploratory Data Analysis (EDA)\n",
    "\n",
    "Lets perform some basic data analysis on `train`.\n",
    "\n",
    "## Preliminary visualization"
   ]
  },
  {
   "cell_type": "code",
   "execution_count": 142,
   "metadata": {
    "execution": {
     "iopub.execute_input": "2021-02-16T02:46:30.862066Z",
     "iopub.status.busy": "2021-02-16T02:46:30.861044Z",
     "iopub.status.idle": "2021-02-16T02:46:30.874170Z",
     "shell.execute_reply": "2021-02-16T02:46:30.873000Z",
     "shell.execute_reply.started": "2021-02-16T02:46:30.862021Z"
    }
   },
   "outputs": [
    {
     "data": {
      "text/plain": [
       "Index(['num_speaker', 'duration', 'languages', 'views', 'related_views',\n",
       "       'related_duration', 'event_category', 'day', 'month', 'year',\n",
       "       'day_film', 'month_film', 'year_film', 'Technology/Science', 'Humanity',\n",
       "       'Global Issues', 'Art/Creativity', 'Business', 'Entertainment',\n",
       "       'Health', 'Communication', 'Education'],\n",
       "      dtype='object')"
      ]
     },
     "execution_count": 142,
     "metadata": {},
     "output_type": "execute_result"
    }
   ],
   "source": [
    "train.columns"
   ]
  },
  {
   "cell_type": "code",
   "execution_count": 126,
   "metadata": {
    "execution": {
     "iopub.execute_input": "2021-02-16T02:27:05.757332Z",
     "iopub.status.busy": "2021-02-16T02:27:05.757074Z",
     "iopub.status.idle": "2021-02-16T02:27:09.987251Z",
     "shell.execute_reply": "2021-02-16T02:27:09.986586Z",
     "shell.execute_reply.started": "2021-02-16T02:27:05.757304Z"
    }
   },
   "outputs": [
    {
     "data": {
      "image/png": "[encoded data removed]",
      "text/plain": [
       "<Figure size 1440x1080 with 20 Axes>"
      ]
     },
     "metadata": {
      "needs_background": "light"
     },
     "output_type": "display_data"
    }
   ],
   "source": [
    "# Plot some histograms on the training dataset \n",
    "\n",
    "train.hist(bins=50, figsize=(20,15))\n",
    "plt.show()"
   ]
  },
  {
   "cell_type": "code",
   "execution_count": 145,
   "metadata": {
    "execution": {
     "iopub.execute_input": "2021-02-16T02:48:57.833972Z",
     "iopub.status.busy": "2021-02-16T02:48:57.833747Z",
     "iopub.status.idle": "2021-02-16T02:48:58.668035Z",
     "shell.execute_reply": "2021-02-16T02:48:58.667473Z",
     "shell.execute_reply.started": "2021-02-16T02:48:57.833947Z"
    }
   },
   "outputs": [
    {
     "name": "stdout",
     "output_type": "stream",
     "text": [
      "Saving figure correlation_matrix\n"
     ]
    },
    {
     "data": {
      "image/png": "[encoded data removed]",
      "text/plain": [
       "<Figure size 1008x576 with 2 Axes>"
      ]
     },
     "metadata": {},
     "output_type": "display_data"
    },
    {
     "data": {
      "text/html": [
       "<div>\n",
       "<style scoped>\n",
       "    .dataframe tbody tr th:only-of-type {\n",
       "        vertical-align: middle;\n",
       "    }\n",
       "\n",
       "    .dataframe tbody tr th {\n",
       "        vertical-align: top;\n",
       "    }\n",
       "\n",
       "    .dataframe thead th {\n",
       "        text-align: right;\n",
       "    }\n",
       "</style>\n",
       "<table border=\"1\" class=\"dataframe\">\n",
       "  <thead>\n",
       "    <tr style=\"text-align: right;\">\n",
       "      <th></th>\n",
       "      <th>duration</th>\n",
       "      <th>languages</th>\n",
       "      <th>views</th>\n",
       "      <th>related_views</th>\n",
       "      <th>related_duration</th>\n",
       "    </tr>\n",
       "  </thead>\n",
       "  <tbody>\n",
       "    <tr>\n",
       "      <th>duration</th>\n",
       "      <td>1.000000</td>\n",
       "      <td>-0.316973</td>\n",
       "      <td>0.077581</td>\n",
       "      <td>-0.003139</td>\n",
       "      <td>0.296347</td>\n",
       "    </tr>\n",
       "    <tr>\n",
       "      <th>languages</th>\n",
       "      <td>-0.316973</td>\n",
       "      <td>1.000000</td>\n",
       "      <td>0.400823</td>\n",
       "      <td>0.195044</td>\n",
       "      <td>-0.094257</td>\n",
       "    </tr>\n",
       "    <tr>\n",
       "      <th>views</th>\n",
       "      <td>0.077581</td>\n",
       "      <td>0.400823</td>\n",
       "      <td>1.000000</td>\n",
       "      <td>0.285808</td>\n",
       "      <td>-0.006356</td>\n",
       "    </tr>\n",
       "    <tr>\n",
       "      <th>related_views</th>\n",
       "      <td>-0.003139</td>\n",
       "      <td>0.195044</td>\n",
       "      <td>0.285808</td>\n",
       "      <td>1.000000</td>\n",
       "      <td>0.046758</td>\n",
       "    </tr>\n",
       "    <tr>\n",
       "      <th>related_duration</th>\n",
       "      <td>0.296347</td>\n",
       "      <td>-0.094257</td>\n",
       "      <td>-0.006356</td>\n",
       "      <td>0.046758</td>\n",
       "      <td>1.000000</td>\n",
       "    </tr>\n",
       "  </tbody>\n",
       "</table>\n",
       "</div>"
      ],
      "text/plain": [
       "                  duration  languages     views  related_views  \\\n",
       "duration          1.000000  -0.316973  0.077581      -0.003139   \n",
       "languages        -0.316973   1.000000  0.400823       0.195044   \n",
       "views             0.077581   0.400823  1.000000       0.285808   \n",
       "related_views    -0.003139   0.195044  0.285808       1.000000   \n",
       "related_duration  0.296347  -0.094257 -0.006356       0.046758   \n",
       "\n",
       "                  related_duration  \n",
       "duration                  0.296347  \n",
       "languages                -0.094257  \n",
       "views                    -0.006356  \n",
       "related_views             0.046758  \n",
       "related_duration          1.000000  "
      ]
     },
     "metadata": {},
     "output_type": "display_data"
    }
   ],
   "source": [
    "# Lets check for correlation\n",
    "\n",
    "import seaborn as sns\n",
    "from seaborn import pairplot\n",
    "sns.set_style(\"whitegrid\")\n",
    "\n",
    "corr_continuous = train[['duration', 'languages','views','related_views','related_duration']]\n",
    "\n",
    "plt.figure(figsize=(14,8))\n",
    "sns.heatmap(corr_continuous.corr(), annot = True, cmap=\"Blues\", linewidths=.1)\n",
    "save_fig(\"correlation_matrix\")\n",
    "plt.show()\n",
    "\n",
    "display(corr_continuous.corr())"
   ]
  },
  {
   "cell_type": "markdown",
   "metadata": {},
   "source": [
    "* From the correlation table and pair plot, we can see that related_views and languages have a corr factor of 0.18, suggesting low to medium correlation.\n",
    "* While duration have very weak correlation to views, number of speakers and different languages, suggesting longer talks don't seem to gather more attention from the audience."
   ]
  },
  {
   "cell_type": "markdown",
   "metadata": {},
   "source": [
    "## TED's categories: differents durations and views\n",
    "\n",
    "Lets see how duration and views fluctuate through categories.\n",
    "\n",
    "### Duration per category"
   ]
  },
  {
   "cell_type": "code",
   "execution_count": 128,
   "metadata": {
    "execution": {
     "iopub.execute_input": "2021-02-16T02:27:12.767186Z",
     "iopub.status.busy": "2021-02-16T02:27:12.767009Z",
     "iopub.status.idle": "2021-02-16T02:27:12.940624Z",
     "shell.execute_reply": "2021-02-16T02:27:12.940009Z",
     "shell.execute_reply.started": "2021-02-16T02:27:12.767165Z"
    }
   },
   "outputs": [
    {
     "name": "stdout",
     "output_type": "stream",
     "text": [
      "Average duration = 13.6\n",
      "Median duration = 14.38\n"
     ]
    },
    {
     "data": {
      "text/html": [
       "<div>\n",
       "<style scoped>\n",
       "    .dataframe tbody tr th:only-of-type {\n",
       "        vertical-align: middle;\n",
       "    }\n",
       "\n",
       "    .dataframe tbody tr th {\n",
       "        vertical-align: top;\n",
       "    }\n",
       "\n",
       "    .dataframe thead th {\n",
       "        text-align: right;\n",
       "    }\n",
       "</style>\n",
       "<table border=\"1\" class=\"dataframe\">\n",
       "  <thead>\n",
       "    <tr style=\"text-align: right;\">\n",
       "      <th></th>\n",
       "      <th>event_category</th>\n",
       "      <th>duration</th>\n",
       "    </tr>\n",
       "  </thead>\n",
       "  <tbody>\n",
       "    <tr>\n",
       "      <th>201</th>\n",
       "      <td>TED1900s</td>\n",
       "      <td>44.63</td>\n",
       "    </tr>\n",
       "    <tr>\n",
       "      <th>224</th>\n",
       "      <td>TED2000s</td>\n",
       "      <td>37.03</td>\n",
       "    </tr>\n",
       "    <tr>\n",
       "      <th>179</th>\n",
       "      <td>TED2000s</td>\n",
       "      <td>35.47</td>\n",
       "    </tr>\n",
       "    <tr>\n",
       "      <th>1599</th>\n",
       "      <td>TED2000s</td>\n",
       "      <td>35.03</td>\n",
       "    </tr>\n",
       "    <tr>\n",
       "      <th>40</th>\n",
       "      <td>TED2000s</td>\n",
       "      <td>34.42</td>\n",
       "    </tr>\n",
       "    <tr>\n",
       "      <th>329</th>\n",
       "      <td>TEDGlobal</td>\n",
       "      <td>33.63</td>\n",
       "    </tr>\n",
       "    <tr>\n",
       "      <th>1602</th>\n",
       "      <td>TED2000s</td>\n",
       "      <td>33.50</td>\n",
       "    </tr>\n",
       "    <tr>\n",
       "      <th>89</th>\n",
       "      <td>TED2000s</td>\n",
       "      <td>32.15</td>\n",
       "    </tr>\n",
       "    <tr>\n",
       "      <th>269</th>\n",
       "      <td>TED2000s</td>\n",
       "      <td>31.13</td>\n",
       "    </tr>\n",
       "    <tr>\n",
       "      <th>150</th>\n",
       "      <td>TED2000s</td>\n",
       "      <td>29.85</td>\n",
       "    </tr>\n",
       "  </tbody>\n",
       "</table>\n",
       "</div>"
      ],
      "text/plain": [
       "     event_category  duration\n",
       "201        TED1900s     44.63\n",
       "224        TED2000s     37.03\n",
       "179        TED2000s     35.47\n",
       "1599       TED2000s     35.03\n",
       "40         TED2000s     34.42\n",
       "329       TEDGlobal     33.63\n",
       "1602       TED2000s     33.50\n",
       "89         TED2000s     32.15\n",
       "269        TED2000s     31.13\n",
       "150        TED2000s     29.85"
      ]
     },
     "metadata": {},
     "output_type": "display_data"
    },
    {
     "data": {
      "image/png": "[encoded data removed]",
      "text/plain": [
       "<Figure size 720x360 with 1 Axes>"
      ]
     },
     "metadata": {},
     "output_type": "display_data"
    }
   ],
   "source": [
    "print(\"Average duration = {}\".format(round(train[\"duration\"].mean(), 2)))\n",
    "print(\"Median duration = {}\".format(round(train[\"duration\"].median(), 2)))\n",
    "\n",
    "display(train[[\"event_category\", \"duration\"]].sort_values(\"duration\", ascending=False).head(10))\n",
    "\n",
    "plt.figure(figsize=(10,5))\n",
    "ax = sns.barplot(x=\"duration\", y=\"event_category\", data=train.sort_values('duration', ascending=False)[:10])\n",
    "ax.set_title(\"Top duration per category\", pad=10, fontdict={'fontsize': 20})\n",
    "plt.show()"
   ]
  },
  {
   "cell_type": "markdown",
   "metadata": {},
   "source": [
    "\n",
    "* Knowing that on an average most TED talks are usually about 18 mins long, __average of 13.6 mins__ and __median of 14.1 mins__ for the entore dataset seems a little lower.\n",
    "\n",
    "* TEDOther seems to be the most popular type of event. Infact most of the top duration talks aren't TED talks as seen from the _event_ column. These talks were just hosted on ted.com website.\n",
    "\n",
    "* Having talks that over an hour are uncommon."
   ]
  },
  {
   "cell_type": "markdown",
   "metadata": {},
   "source": [
    "### Views per category"
   ]
  },
  {
   "cell_type": "code",
   "execution_count": 129,
   "metadata": {
    "execution": {
     "iopub.execute_input": "2021-02-16T02:27:12.942776Z",
     "iopub.status.busy": "2021-02-16T02:27:12.942290Z",
     "iopub.status.idle": "2021-02-16T02:27:13.215718Z",
     "shell.execute_reply": "2021-02-16T02:27:13.214998Z",
     "shell.execute_reply.started": "2021-02-16T02:27:12.942731Z"
    }
   },
   "outputs": [
    {
     "name": "stdout",
     "output_type": "stream",
     "text": [
      "Average views = 1989730.25\n",
      "Median views = 1470634.0\n"
     ]
    },
    {
     "data": {
      "text/html": [
       "<div>\n",
       "<style scoped>\n",
       "    .dataframe tbody tr th:only-of-type {\n",
       "        vertical-align: middle;\n",
       "    }\n",
       "\n",
       "    .dataframe tbody tr th {\n",
       "        vertical-align: top;\n",
       "    }\n",
       "\n",
       "    .dataframe thead th {\n",
       "        text-align: right;\n",
       "    }\n",
       "</style>\n",
       "<table border=\"1\" class=\"dataframe\">\n",
       "  <thead>\n",
       "    <tr style=\"text-align: right;\">\n",
       "      <th></th>\n",
       "      <th>event_category</th>\n",
       "      <th>related_views</th>\n",
       "    </tr>\n",
       "  </thead>\n",
       "  <tbody>\n",
       "    <tr>\n",
       "      <th>1097</th>\n",
       "      <td>TEDOther</td>\n",
       "      <td>19871074</td>\n",
       "    </tr>\n",
       "    <tr>\n",
       "      <th>1814</th>\n",
       "      <td>TEDx</td>\n",
       "      <td>16127339</td>\n",
       "    </tr>\n",
       "    <tr>\n",
       "      <th>429</th>\n",
       "      <td>TED2000s</td>\n",
       "      <td>13065269</td>\n",
       "    </tr>\n",
       "    <tr>\n",
       "      <th>1849</th>\n",
       "      <td>TEDGlobal</td>\n",
       "      <td>12032103</td>\n",
       "    </tr>\n",
       "    <tr>\n",
       "      <th>321</th>\n",
       "      <td>TED2000s</td>\n",
       "      <td>11944922</td>\n",
       "    </tr>\n",
       "    <tr>\n",
       "      <th>301</th>\n",
       "      <td>TED2000s</td>\n",
       "      <td>11903226</td>\n",
       "    </tr>\n",
       "    <tr>\n",
       "      <th>47</th>\n",
       "      <td>TED2000s</td>\n",
       "      <td>11888126</td>\n",
       "    </tr>\n",
       "    <tr>\n",
       "      <th>864</th>\n",
       "      <td>TED2000s</td>\n",
       "      <td>11843988</td>\n",
       "    </tr>\n",
       "    <tr>\n",
       "      <th>1783</th>\n",
       "      <td>TEDx</td>\n",
       "      <td>11678706</td>\n",
       "    </tr>\n",
       "    <tr>\n",
       "      <th>1734</th>\n",
       "      <td>TED@</td>\n",
       "      <td>11453815</td>\n",
       "    </tr>\n",
       "  </tbody>\n",
       "</table>\n",
       "</div>"
      ],
      "text/plain": [
       "     event_category  related_views\n",
       "1097       TEDOther       19871074\n",
       "1814           TEDx       16127339\n",
       "429        TED2000s       13065269\n",
       "1849      TEDGlobal       12032103\n",
       "321        TED2000s       11944922\n",
       "301        TED2000s       11903226\n",
       "47         TED2000s       11888126\n",
       "864        TED2000s       11843988\n",
       "1783           TEDx       11678706\n",
       "1734           TED@       11453815"
      ]
     },
     "metadata": {},
     "output_type": "display_data"
    },
    {
     "data": {
      "image/png": "[encoded data removed]",
      "text/plain": [
       "<Figure size 720x360 with 1 Axes>"
      ]
     },
     "metadata": {},
     "output_type": "display_data"
    }
   ],
   "source": [
    "print(\"Average views = {}\".format(round(train[\"related_views\"].mean(), 2)))\n",
    "\n",
    "print(\"Median views = {}\".format(round(train[\"related_views\"].median(), 2)))\n",
    "\n",
    "display(train[[\"event_category\", \"related_views\"]].sort_values('related_views', ascending=False).head(10))\n",
    "\n",
    "plt.figure(figsize=(10,5))\n",
    "ax = sns.barplot(x=\"related_views\", y=\"event_category\", data=train.sort_values('related_views', ascending=False)[:10])\n",
    "ax.set_title(\"Top Views per category\", pad=10, fontdict={'fontsize': 20})\n",
    "plt.show()"
   ]
  },
  {
   "cell_type": "markdown",
   "metadata": {},
   "source": [
    "* The most views came from TEDOther events, with almost 20 million views, which is huge when compared to average views of about 1.7 million, and a median of about 1.12 million.\n",
    "* At second place is TEDx with more than 12.5 million views."
   ]
  },
  {
   "cell_type": "markdown",
   "metadata": {},
   "source": [
    "## Talks over years and months\n",
    "\n",
    "How are the talks distributed throughout time since its creation?\n",
    "\n",
    "### Years"
   ]
  },
  {
   "cell_type": "code",
   "execution_count": 130,
   "metadata": {
    "execution": {
     "iopub.execute_input": "2021-02-16T02:27:13.217322Z",
     "iopub.status.busy": "2021-02-16T02:27:13.216819Z",
     "iopub.status.idle": "2021-02-16T02:27:13.424655Z",
     "shell.execute_reply": "2021-02-16T02:27:13.424003Z",
     "shell.execute_reply.started": "2021-02-16T02:27:13.217277Z"
    }
   },
   "outputs": [
    {
     "data": {
      "image/png": "[encoded data removed]",
      "text/plain": [
       "<Figure size 1296x360 with 1 Axes>"
      ]
     },
     "metadata": {},
     "output_type": "display_data"
    }
   ],
   "source": [
    "talk_years = train['year'].value_counts().reset_index()\n",
    "talk_years.columns = [\"year\", \"no_of_talks\"]\n",
    "\n",
    "plt.figure(figsize=(18,5))\n",
    "ax = sns.barplot(x=\"year\", y=\"no_of_talks\", data=talk_years)\n",
    "ax.set_title(\"Number of talks over years\", pad=10, fontdict={'fontsize': 20})\n",
    "plt.show()"
   ]
  },
  {
   "cell_type": "markdown",
   "metadata": {},
   "source": [
    "* Number of talks increased consistently from 2006 to 2012 and then stabilized. "
   ]
  },
  {
   "cell_type": "markdown",
   "metadata": {},
   "source": [
    "### Months"
   ]
  },
  {
   "cell_type": "code",
   "execution_count": 134,
   "metadata": {
    "execution": {
     "iopub.execute_input": "2021-02-16T02:28:51.751588Z",
     "iopub.status.busy": "2021-02-16T02:28:51.751320Z",
     "iopub.status.idle": "2021-02-16T02:28:51.976127Z",
     "shell.execute_reply": "2021-02-16T02:28:51.975612Z",
     "shell.execute_reply.started": "2021-02-16T02:28:51.751559Z"
    }
   },
   "outputs": [
    {
     "data": {
      "image/png": "[encoded data removed]",
      "text/plain": [
       "<Figure size 1296x360 with 1 Axes>"
      ]
     },
     "metadata": {},
     "output_type": "display_data"
    }
   ],
   "source": [
    "talk_years = train['month'].value_counts().reset_index()\n",
    "talk_years.columns = [\"month\", \"no_of_talks\"]\n",
    "\n",
    "plt.figure(figsize=(18,5))\n",
    "ax = sns.barplot(x=\"month\", y=\"no_of_talks\", data=talk_years)\n",
    "ax.set_title(\"Number of talks over months\", pad=10, fontdict={'fontsize': 20})\n",
    "plt.show()\n",
    "\n",
    "#1 = january ; 12 = December"
   ]
  },
  {
   "cell_type": "markdown",
   "metadata": {},
   "source": [
    "### Outlier Detection\n",
    "\n",
    "We identified 51 outlier in this instance."
   ]
  },
  {
   "cell_type": "code",
   "execution_count": 140,
   "metadata": {
    "execution": {
     "iopub.execute_input": "2021-02-16T02:34:26.770332Z",
     "iopub.status.busy": "2021-02-16T02:34:26.770008Z",
     "iopub.status.idle": "2021-02-16T02:34:27.165621Z",
     "shell.execute_reply": "2021-02-16T02:34:27.164861Z",
     "shell.execute_reply.started": "2021-02-16T02:34:26.770299Z"
    }
   },
   "outputs": [
    {
     "data": {
      "text/html": [
       "<div>\n",
       "<style scoped>\n",
       "    .dataframe tbody tr th:only-of-type {\n",
       "        vertical-align: middle;\n",
       "    }\n",
       "\n",
       "    .dataframe tbody tr th {\n",
       "        vertical-align: top;\n",
       "    }\n",
       "\n",
       "    .dataframe thead th {\n",
       "        text-align: right;\n",
       "    }\n",
       "</style>\n",
       "<table border=\"1\" class=\"dataframe\">\n",
       "  <thead>\n",
       "    <tr style=\"text-align: right;\">\n",
       "      <th></th>\n",
       "      <th>num_speaker</th>\n",
       "      <th>duration</th>\n",
       "      <th>languages</th>\n",
       "      <th>views</th>\n",
       "      <th>related_views</th>\n",
       "      <th>related_duration</th>\n",
       "      <th>event_category</th>\n",
       "      <th>day</th>\n",
       "      <th>month</th>\n",
       "      <th>year</th>\n",
       "      <th>day_film</th>\n",
       "      <th>month_film</th>\n",
       "      <th>year_film</th>\n",
       "      <th>Technology/Science</th>\n",
       "      <th>Humanity</th>\n",
       "      <th>Global Issues</th>\n",
       "      <th>Art/Creativity</th>\n",
       "      <th>Business</th>\n",
       "      <th>Entertainment</th>\n",
       "      <th>Health</th>\n",
       "      <th>Communication</th>\n",
       "      <th>Education</th>\n",
       "    </tr>\n",
       "  </thead>\n",
       "  <tbody>\n",
       "    <tr>\n",
       "      <th>0</th>\n",
       "      <td>1</td>\n",
       "      <td>19.40</td>\n",
       "      <td>60</td>\n",
       "      <td>47227110</td>\n",
       "      <td>3027062</td>\n",
       "      <td>921</td>\n",
       "      <td>TED2000s</td>\n",
       "      <td>Monday</td>\n",
       "      <td>6</td>\n",
       "      <td>2006</td>\n",
       "      <td>Friday</td>\n",
       "      <td>2</td>\n",
       "      <td>2006</td>\n",
       "      <td>0</td>\n",
       "      <td>1</td>\n",
       "      <td>0</td>\n",
       "      <td>1</td>\n",
       "      <td>0</td>\n",
       "      <td>0</td>\n",
       "      <td>0</td>\n",
       "      <td>0</td>\n",
       "      <td>1</td>\n",
       "    </tr>\n",
       "    <tr>\n",
       "      <th>5</th>\n",
       "      <td>1</td>\n",
       "      <td>21.75</td>\n",
       "      <td>36</td>\n",
       "      <td>20685401</td>\n",
       "      <td>8376548</td>\n",
       "      <td>851</td>\n",
       "      <td>TED2000s</td>\n",
       "      <td>Tuesday</td>\n",
       "      <td>6</td>\n",
       "      <td>2006</td>\n",
       "      <td>Wednesday</td>\n",
       "      <td>2</td>\n",
       "      <td>2006</td>\n",
       "      <td>0</td>\n",
       "      <td>1</td>\n",
       "      <td>0</td>\n",
       "      <td>0</td>\n",
       "      <td>1</td>\n",
       "      <td>1</td>\n",
       "      <td>0</td>\n",
       "      <td>0</td>\n",
       "      <td>0</td>\n",
       "    </tr>\n",
       "    <tr>\n",
       "      <th>47</th>\n",
       "      <td>1</td>\n",
       "      <td>3.50</td>\n",
       "      <td>66</td>\n",
       "      <td>10841210</td>\n",
       "      <td>11888126</td>\n",
       "      <td>894</td>\n",
       "      <td>TED2000s</td>\n",
       "      <td>Wednesday</td>\n",
       "      <td>12</td>\n",
       "      <td>2006</td>\n",
       "      <td>Tuesday</td>\n",
       "      <td>2</td>\n",
       "      <td>2005</td>\n",
       "      <td>0</td>\n",
       "      <td>1</td>\n",
       "      <td>0</td>\n",
       "      <td>0</td>\n",
       "      <td>1</td>\n",
       "      <td>1</td>\n",
       "      <td>0</td>\n",
       "      <td>0</td>\n",
       "      <td>0</td>\n",
       "    </tr>\n",
       "  </tbody>\n",
       "</table>\n",
       "</div>"
      ],
      "text/plain": [
       "    num_speaker  duration  languages     views  related_views  \\\n",
       "0             1     19.40         60  47227110        3027062   \n",
       "5             1     21.75         36  20685401        8376548   \n",
       "47            1      3.50         66  10841210       11888126   \n",
       "\n",
       "    related_duration event_category        day  month  year   day_film  \\\n",
       "0                921       TED2000s     Monday      6  2006     Friday   \n",
       "5                851       TED2000s    Tuesday      6  2006  Wednesday   \n",
       "47               894       TED2000s  Wednesday     12  2006    Tuesday   \n",
       "\n",
       "    month_film  year_film  Technology/Science  Humanity  Global Issues  \\\n",
       "0            2       2006                   0         1              0   \n",
       "5            2       2006                   0         1              0   \n",
       "47           2       2005                   0         1              0   \n",
       "\n",
       "    Art/Creativity  Business  Entertainment  Health  Communication  Education  \n",
       "0                1         0              0       0              0          1  \n",
       "5                0         1              1       0              0          0  \n",
       "47               0         1              1       0              0          0  "
      ]
     },
     "execution_count": 140,
     "metadata": {},
     "output_type": "execute_result"
    }
   ],
   "source": [
    "#use isolation forest to examine most extreme 2.5% of outliers from continuous variables from the analysis, which were visually identified during data exploration\n",
    "continuous_vars = train[['duration', 'languages','views','related_views','related_duration']]\n",
    "\n",
    "from sklearn.ensemble import IsolationForest\n",
    "iforest = IsolationForest(n_estimators = 100,random_state=13, contamination=0.025) \n",
    "\n",
    "#predict anomalies\n",
    "pred = iforest.fit_predict(continuous_vars)\n",
    "#anomaly score of each \n",
    "iforest_scores = iforest.decision_function(continuous_vars)\n",
    "\n",
    "#create a new variable to store the index number where anomaly =-1 in the anomalies vector\n",
    "from numpy import where\n",
    "anomaly_index = where(pred ==-1)\n",
    "#extract values corresponding to the index of anomalies from the main df\n",
    "anomaly_values = train.iloc[anomaly_index]\n",
    "anomaly_values.head(3)"
   ]
  },
  {
   "cell_type": "markdown",
   "metadata": {},
   "source": [
    "### Cluster Visualization"
   ]
  },
  {
   "cell_type": "code",
   "execution_count": 465,
   "metadata": {
    "execution": {
     "iopub.execute_input": "2021-02-16T05:33:09.678084Z",
     "iopub.status.busy": "2021-02-16T05:33:09.677831Z",
     "iopub.status.idle": "2021-02-16T05:33:09.681934Z",
     "shell.execute_reply": "2021-02-16T05:33:09.681146Z",
     "shell.execute_reply.started": "2021-02-16T05:33:09.678056Z"
    }
   },
   "outputs": [],
   "source": [
    "#make a copy of this dataset for clustering at the end\n",
    "train_clust = train.copy()"
   ]
  },
  {
   "cell_type": "code",
   "execution_count": 466,
   "metadata": {
    "execution": {
     "iopub.execute_input": "2021-02-16T05:33:09.968871Z",
     "iopub.status.busy": "2021-02-16T05:33:09.968613Z",
     "iopub.status.idle": "2021-02-16T05:33:10.010634Z",
     "shell.execute_reply": "2021-02-16T05:33:10.010068Z",
     "shell.execute_reply.started": "2021-02-16T05:33:09.968844Z"
    }
   },
   "outputs": [
    {
     "data": {
      "text/html": [
       "<div>\n",
       "<style scoped>\n",
       "    .dataframe tbody tr th:only-of-type {\n",
       "        vertical-align: middle;\n",
       "    }\n",
       "\n",
       "    .dataframe tbody tr th {\n",
       "        vertical-align: top;\n",
       "    }\n",
       "\n",
       "    .dataframe thead th {\n",
       "        text-align: right;\n",
       "    }\n",
       "</style>\n",
       "<table border=\"1\" class=\"dataframe\">\n",
       "  <thead>\n",
       "    <tr style=\"text-align: right;\">\n",
       "      <th></th>\n",
       "      <th>num_speaker</th>\n",
       "      <th>duration</th>\n",
       "      <th>languages</th>\n",
       "      <th>views</th>\n",
       "      <th>related_views</th>\n",
       "      <th>related_duration</th>\n",
       "      <th>month</th>\n",
       "      <th>year</th>\n",
       "      <th>month_film</th>\n",
       "      <th>year_film</th>\n",
       "      <th>Technology/Science</th>\n",
       "      <th>Humanity</th>\n",
       "      <th>Global Issues</th>\n",
       "      <th>Art/Creativity</th>\n",
       "      <th>Business</th>\n",
       "      <th>Entertainment</th>\n",
       "      <th>Health</th>\n",
       "      <th>Communication</th>\n",
       "      <th>Education</th>\n",
       "    </tr>\n",
       "  </thead>\n",
       "  <tbody>\n",
       "    <tr>\n",
       "      <th>0</th>\n",
       "      <td>1</td>\n",
       "      <td>19.40</td>\n",
       "      <td>60</td>\n",
       "      <td>47227110</td>\n",
       "      <td>3027062</td>\n",
       "      <td>921</td>\n",
       "      <td>6</td>\n",
       "      <td>2006</td>\n",
       "      <td>2</td>\n",
       "      <td>2006</td>\n",
       "      <td>0</td>\n",
       "      <td>1</td>\n",
       "      <td>0</td>\n",
       "      <td>1</td>\n",
       "      <td>0</td>\n",
       "      <td>0</td>\n",
       "      <td>0</td>\n",
       "      <td>0</td>\n",
       "      <td>1</td>\n",
       "    </tr>\n",
       "    <tr>\n",
       "      <th>1</th>\n",
       "      <td>1</td>\n",
       "      <td>16.28</td>\n",
       "      <td>43</td>\n",
       "      <td>3200520</td>\n",
       "      <td>1118767</td>\n",
       "      <td>1096</td>\n",
       "      <td>6</td>\n",
       "      <td>2006</td>\n",
       "      <td>2</td>\n",
       "      <td>2006</td>\n",
       "      <td>1</td>\n",
       "      <td>1</td>\n",
       "      <td>1</td>\n",
       "      <td>0</td>\n",
       "      <td>0</td>\n",
       "      <td>0</td>\n",
       "      <td>0</td>\n",
       "      <td>0</td>\n",
       "      <td>0</td>\n",
       "    </tr>\n",
       "    <tr>\n",
       "      <th>2</th>\n",
       "      <td>1</td>\n",
       "      <td>21.43</td>\n",
       "      <td>26</td>\n",
       "      <td>1636292</td>\n",
       "      <td>1846195</td>\n",
       "      <td>915</td>\n",
       "      <td>6</td>\n",
       "      <td>2006</td>\n",
       "      <td>2</td>\n",
       "      <td>2006</td>\n",
       "      <td>1</td>\n",
       "      <td>0</td>\n",
       "      <td>0</td>\n",
       "      <td>0</td>\n",
       "      <td>0</td>\n",
       "      <td>1</td>\n",
       "      <td>0</td>\n",
       "      <td>0</td>\n",
       "      <td>0</td>\n",
       "    </tr>\n",
       "    <tr>\n",
       "      <th>3</th>\n",
       "      <td>1</td>\n",
       "      <td>18.60</td>\n",
       "      <td>35</td>\n",
       "      <td>1697550</td>\n",
       "      <td>776189</td>\n",
       "      <td>748</td>\n",
       "      <td>6</td>\n",
       "      <td>2006</td>\n",
       "      <td>2</td>\n",
       "      <td>2006</td>\n",
       "      <td>0</td>\n",
       "      <td>0</td>\n",
       "      <td>1</td>\n",
       "      <td>0</td>\n",
       "      <td>1</td>\n",
       "      <td>0</td>\n",
       "      <td>0</td>\n",
       "      <td>0</td>\n",
       "      <td>0</td>\n",
       "    </tr>\n",
       "    <tr>\n",
       "      <th>4</th>\n",
       "      <td>1</td>\n",
       "      <td>19.83</td>\n",
       "      <td>48</td>\n",
       "      <td>12005869</td>\n",
       "      <td>1907337</td>\n",
       "      <td>943</td>\n",
       "      <td>6</td>\n",
       "      <td>2006</td>\n",
       "      <td>2</td>\n",
       "      <td>2006</td>\n",
       "      <td>0</td>\n",
       "      <td>0</td>\n",
       "      <td>1</td>\n",
       "      <td>0</td>\n",
       "      <td>1</td>\n",
       "      <td>0</td>\n",
       "      <td>1</td>\n",
       "      <td>0</td>\n",
       "      <td>0</td>\n",
       "    </tr>\n",
       "    <tr>\n",
       "      <th>...</th>\n",
       "      <td>...</td>\n",
       "      <td>...</td>\n",
       "      <td>...</td>\n",
       "      <td>...</td>\n",
       "      <td>...</td>\n",
       "      <td>...</td>\n",
       "      <td>...</td>\n",
       "      <td>...</td>\n",
       "      <td>...</td>\n",
       "      <td>...</td>\n",
       "      <td>...</td>\n",
       "      <td>...</td>\n",
       "      <td>...</td>\n",
       "      <td>...</td>\n",
       "      <td>...</td>\n",
       "      <td>...</td>\n",
       "      <td>...</td>\n",
       "      <td>...</td>\n",
       "      <td>...</td>\n",
       "    </tr>\n",
       "    <tr>\n",
       "      <th>1998</th>\n",
       "      <td>1</td>\n",
       "      <td>8.82</td>\n",
       "      <td>27</td>\n",
       "      <td>1453242</td>\n",
       "      <td>2060572</td>\n",
       "      <td>685</td>\n",
       "      <td>12</td>\n",
       "      <td>2015</td>\n",
       "      <td>11</td>\n",
       "      <td>2014</td>\n",
       "      <td>0</td>\n",
       "      <td>1</td>\n",
       "      <td>0</td>\n",
       "      <td>0</td>\n",
       "      <td>0</td>\n",
       "      <td>0</td>\n",
       "      <td>0</td>\n",
       "      <td>0</td>\n",
       "      <td>0</td>\n",
       "    </tr>\n",
       "    <tr>\n",
       "      <th>1999</th>\n",
       "      <td>2</td>\n",
       "      <td>15.73</td>\n",
       "      <td>29</td>\n",
       "      <td>2269844</td>\n",
       "      <td>1660386</td>\n",
       "      <td>879</td>\n",
       "      <td>12</td>\n",
       "      <td>2015</td>\n",
       "      <td>5</td>\n",
       "      <td>2015</td>\n",
       "      <td>0</td>\n",
       "      <td>1</td>\n",
       "      <td>1</td>\n",
       "      <td>1</td>\n",
       "      <td>0</td>\n",
       "      <td>0</td>\n",
       "      <td>0</td>\n",
       "      <td>0</td>\n",
       "      <td>0</td>\n",
       "    </tr>\n",
       "    <tr>\n",
       "      <th>2000</th>\n",
       "      <td>1</td>\n",
       "      <td>19.90</td>\n",
       "      <td>30</td>\n",
       "      <td>1117165</td>\n",
       "      <td>1283705</td>\n",
       "      <td>924</td>\n",
       "      <td>12</td>\n",
       "      <td>2015</td>\n",
       "      <td>12</td>\n",
       "      <td>2015</td>\n",
       "      <td>0</td>\n",
       "      <td>0</td>\n",
       "      <td>0</td>\n",
       "      <td>0</td>\n",
       "      <td>0</td>\n",
       "      <td>1</td>\n",
       "      <td>0</td>\n",
       "      <td>0</td>\n",
       "      <td>0</td>\n",
       "    </tr>\n",
       "    <tr>\n",
       "      <th>2001</th>\n",
       "      <td>1</td>\n",
       "      <td>9.47</td>\n",
       "      <td>23</td>\n",
       "      <td>1254964</td>\n",
       "      <td>1963576</td>\n",
       "      <td>1150</td>\n",
       "      <td>12</td>\n",
       "      <td>2015</td>\n",
       "      <td>6</td>\n",
       "      <td>2015</td>\n",
       "      <td>0</td>\n",
       "      <td>0</td>\n",
       "      <td>0</td>\n",
       "      <td>0</td>\n",
       "      <td>0</td>\n",
       "      <td>0</td>\n",
       "      <td>0</td>\n",
       "      <td>0</td>\n",
       "      <td>0</td>\n",
       "    </tr>\n",
       "    <tr>\n",
       "      <th>2002</th>\n",
       "      <td>1</td>\n",
       "      <td>12.77</td>\n",
       "      <td>43</td>\n",
       "      <td>16601927</td>\n",
       "      <td>3679567</td>\n",
       "      <td>908</td>\n",
       "      <td>12</td>\n",
       "      <td>2015</td>\n",
       "      <td>11</td>\n",
       "      <td>2015</td>\n",
       "      <td>0</td>\n",
       "      <td>0</td>\n",
       "      <td>0</td>\n",
       "      <td>1</td>\n",
       "      <td>0</td>\n",
       "      <td>0</td>\n",
       "      <td>0</td>\n",
       "      <td>0</td>\n",
       "      <td>0</td>\n",
       "    </tr>\n",
       "  </tbody>\n",
       "</table>\n",
       "<p>2003 rows × 19 columns</p>\n",
       "</div>"
      ],
      "text/plain": [
       "      num_speaker  duration  languages     views  related_views  \\\n",
       "0               1     19.40         60  47227110        3027062   \n",
       "1               1     16.28         43   3200520        1118767   \n",
       "2               1     21.43         26   1636292        1846195   \n",
       "3               1     18.60         35   1697550         776189   \n",
       "4               1     19.83         48  12005869        1907337   \n",
       "...           ...       ...        ...       ...            ...   \n",
       "1998            1      8.82         27   1453242        2060572   \n",
       "1999            2     15.73         29   2269844        1660386   \n",
       "2000            1     19.90         30   1117165        1283705   \n",
       "2001            1      9.47         23   1254964        1963576   \n",
       "2002            1     12.77         43  16601927        3679567   \n",
       "\n",
       "      related_duration  month  year  month_film  year_film  \\\n",
       "0                  921      6  2006           2       2006   \n",
       "1                 1096      6  2006           2       2006   \n",
       "2                  915      6  2006           2       2006   \n",
       "3                  748      6  2006           2       2006   \n",
       "4                  943      6  2006           2       2006   \n",
       "...                ...    ...   ...         ...        ...   \n",
       "1998               685     12  2015          11       2014   \n",
       "1999               879     12  2015           5       2015   \n",
       "2000               924     12  2015          12       2015   \n",
       "2001              1150     12  2015           6       2015   \n",
       "2002               908     12  2015          11       2015   \n",
       "\n",
       "      Technology/Science  Humanity  Global Issues  Art/Creativity  Business  \\\n",
       "0                      0         1              0               1         0   \n",
       "1                      1         1              1               0         0   \n",
       "2                      1         0              0               0         0   \n",
       "3                      0         0              1               0         1   \n",
       "4                      0         0              1               0         1   \n",
       "...                  ...       ...            ...             ...       ...   \n",
       "1998                   0         1              0               0         0   \n",
       "1999                   0         1              1               1         0   \n",
       "2000                   0         0              0               0         0   \n",
       "2001                   0         0              0               0         0   \n",
       "2002                   0         0              0               1         0   \n",
       "\n",
       "      Entertainment  Health  Communication  Education  \n",
       "0                 0       0              0          1  \n",
       "1                 0       0              0          0  \n",
       "2                 1       0              0          0  \n",
       "3                 0       0              0          0  \n",
       "4                 0       1              0          0  \n",
       "...             ...     ...            ...        ...  \n",
       "1998              0       0              0          0  \n",
       "1999              0       0              0          0  \n",
       "2000              1       0              0          0  \n",
       "2001              0       0              0          0  \n",
       "2002              0       0              0          0  \n",
       "\n",
       "[2003 rows x 19 columns]"
      ]
     },
     "execution_count": 466,
     "metadata": {},
     "output_type": "execute_result"
    }
   ],
   "source": [
    "#Importing required modules\n",
    " \n",
    "from sklearn.datasets import load_digits\n",
    "from sklearn.decomposition import PCA\n",
    "from sklearn.cluster import KMeans\n",
    "import numpy as np\n",
    "\n",
    "train_cluster = train.drop([\"event_category\",\"day\",\"day_film\"],axis=1)\n",
    "train_cluster"
   ]
  },
  {
   "cell_type": "code",
   "execution_count": 467,
   "metadata": {
    "execution": {
     "iopub.execute_input": "2021-02-16T05:33:10.296267Z",
     "iopub.status.busy": "2021-02-16T05:33:10.296020Z",
     "iopub.status.idle": "2021-02-16T05:33:10.333902Z",
     "shell.execute_reply": "2021-02-16T05:33:10.333183Z",
     "shell.execute_reply.started": "2021-02-16T05:33:10.296246Z"
    }
   },
   "outputs": [
    {
     "data": {
      "text/plain": [
       "(2003, 2)"
      ]
     },
     "execution_count": 467,
     "metadata": {},
     "output_type": "execute_result"
    }
   ],
   "source": [
    "pca = PCA(2)\n",
    " \n",
    "#Transform the data\n",
    "df = pca.fit_transform(train_cluster)\n",
    " \n",
    "df.shape"
   ]
  },
  {
   "cell_type": "code",
   "execution_count": 468,
   "metadata": {
    "execution": {
     "iopub.execute_input": "2021-02-16T05:33:10.398803Z",
     "iopub.status.busy": "2021-02-16T05:33:10.398444Z",
     "iopub.status.idle": "2021-02-16T05:33:11.784981Z",
     "shell.execute_reply": "2021-02-16T05:33:11.784266Z",
     "shell.execute_reply.started": "2021-02-16T05:33:10.398757Z"
    }
   },
   "outputs": [
    {
     "data": {
      "text/plain": [
       "[<matplotlib.lines.Line2D at 0x7ffe48322590>]"
      ]
     },
     "execution_count": 468,
     "metadata": {},
     "output_type": "execute_result"
    },
    {
     "data": {
      "image/png": "[encoded data removed]",
      "text/plain": [
       "<Figure size 432x288 with 1 Axes>"
      ]
     },
     "metadata": {},
     "output_type": "display_data"
    }
   ],
   "source": [
    "#Elbow Method\n",
    "from sklearn.cluster import KMeans\n",
    "withinss = []\n",
    "for i in range(2,11):\n",
    "    kmeans = KMeans(n_clusters=i)\n",
    "    model_clustering = kmeans.fit(train_cluster)\n",
    "    withinss.append(model_clustering.inertia_)  \n",
    "    \n",
    "from matplotlib import pyplot\n",
    "pyplot.plot([2,3,4,5,6,7,8,9,10],withinss)    \n",
    "#the optimal number of clusters is 5"
   ]
  },
  {
   "cell_type": "code",
   "execution_count": 469,
   "metadata": {
    "execution": {
     "iopub.execute_input": "2021-02-16T05:33:11.787578Z",
     "iopub.status.busy": "2021-02-16T05:33:11.787153Z",
     "iopub.status.idle": "2021-02-16T05:33:12.437295Z",
     "shell.execute_reply": "2021-02-16T05:33:12.436579Z",
     "shell.execute_reply.started": "2021-02-16T05:33:11.787550Z"
    }
   },
   "outputs": [
    {
     "data": {
      "image/png": "[encoded data removed]",
      "text/plain": [
       "<Figure size 432x288 with 1 Axes>"
      ]
     },
     "metadata": {},
     "output_type": "display_data"
    }
   ],
   "source": [
    "from sklearn.cluster import KMeans    \n",
    "kmeans = KMeans(n_clusters=6)    \n",
    "model_clustering = kmeans.fit(df)\n",
    "labels = model_clustering.predict(df)    \n",
    "\n",
    "from sklearn.metrics import silhouette_samples\n",
    "from sklearn.metrics import silhouette_score\n",
    "silhouette_score(df,labels)\n",
    "silhouette=silhouette_samples(df,labels)\n",
    "np.average(silhouette)\n",
    "\n",
    "import matplotlib.pyplot as plt\n",
    "\n",
    "#Getting unique labels\n",
    " \n",
    "u_labels = np.unique(labels)\n",
    " \n",
    "#plotting the results:\n",
    " \n",
    "for i in u_labels:\n",
    "    plt.scatter(df[labels == i , 0] , df[labels == i , 1] , label = i)\n",
    "plt.legend()\n",
    "plt.show()"
   ]
  },
  {
   "cell_type": "code",
   "execution_count": 470,
   "metadata": {
    "execution": {
     "iopub.execute_input": "2021-02-16T05:33:12.439350Z",
     "iopub.status.busy": "2021-02-16T05:33:12.439145Z",
     "iopub.status.idle": "2021-02-16T05:33:13.401084Z",
     "shell.execute_reply": "2021-02-16T05:33:13.400344Z",
     "shell.execute_reply.started": "2021-02-16T05:33:12.439326Z"
    }
   },
   "outputs": [
    {
     "data": {
      "image/png": "[encoded data removed]",
      "text/plain": [
       "<Figure size 432x288 with 1 Axes>"
      ]
     },
     "metadata": {},
     "output_type": "display_data"
    }
   ],
   "source": [
    "#Getting the Centroids\n",
    "\n",
    "centroids = kmeans.cluster_centers_\n",
    "u_labels = np.unique(labels)\n",
    " \n",
    "#plotting the results:\n",
    " \n",
    "for i in u_labels:\n",
    "    plt.scatter(df[labels == i , 0] , df[labels == i , 1] , label = i)\n",
    "plt.scatter(centroids[:,0] , centroids[:,1] , s = 10,color=\"black\")\n",
    "plt.legend()\n",
    "plt.show()\n"
   ]
  },
  {
   "cell_type": "markdown",
   "metadata": {},
   "source": [
    "---"
   ]
  },
  {
   "cell_type": "markdown",
   "metadata": {},
   "source": [
    "# IV - Prepare data for modeling"
   ]
  },
  {
   "cell_type": "markdown",
   "metadata": {},
   "source": [
    "### Drop useless and invalid predictors \n",
    "\n",
    "We first drop columns related to recommended videos as we assume that this will not be generated until the video has been posted online. We also assume that we cannot use languages as TED uses a volunteer based translation service where viewers can translate their favourite talks: https://www.ted.com/about/programs-initiatives/ted-translators. We assume this would not occur until after the video is posted also."
   ]
  },
  {
   "cell_type": "code",
   "execution_count": 443,
   "metadata": {
    "execution": {
     "iopub.execute_input": "2021-02-16T05:26:38.303666Z",
     "iopub.status.busy": "2021-02-16T05:26:38.303394Z",
     "iopub.status.idle": "2021-02-16T05:26:38.309786Z",
     "shell.execute_reply": "2021-02-16T05:26:38.308925Z",
     "shell.execute_reply.started": "2021-02-16T05:26:38.303636Z"
    }
   },
   "outputs": [],
   "source": [
    "train.drop(['related_views','related_duration', 'languages'], axis = 1, inplace = True)"
   ]
  },
  {
   "cell_type": "markdown",
   "metadata": {},
   "source": [
    "### Categorical Encoding "
   ]
  },
  {
   "cell_type": "code",
   "execution_count": 444,
   "metadata": {
    "execution": {
     "iopub.execute_input": "2021-02-16T05:26:38.819709Z",
     "iopub.status.busy": "2021-02-16T05:26:38.819460Z",
     "iopub.status.idle": "2021-02-16T05:26:38.842275Z",
     "shell.execute_reply": "2021-02-16T05:26:38.841569Z",
     "shell.execute_reply.started": "2021-02-16T05:26:38.819681Z"
    }
   },
   "outputs": [],
   "source": [
    "train = pd.get_dummies(data = train, columns = [\"event_category\",\"day\",\"month\",\"day_film\",\"month_film\",\"year_film\"])"
   ]
  },
  {
   "cell_type": "code",
   "execution_count": 445,
   "metadata": {
    "execution": {
     "iopub.execute_input": "2021-02-16T05:26:39.035178Z",
     "iopub.status.busy": "2021-02-16T05:26:39.034916Z",
     "iopub.status.idle": "2021-02-16T05:26:39.044176Z",
     "shell.execute_reply": "2021-02-16T05:26:39.043474Z",
     "shell.execute_reply.started": "2021-02-16T05:26:39.035150Z"
    }
   },
   "outputs": [],
   "source": [
    "# training data for the different models that will be tested\n",
    "train2 = train[(train[\"year\"] >= 2006) & (train[\"year\"] <= 2013)]\n",
    "\n",
    "# test data that will be use to evaluate all tested models\n",
    "test2 = train[(train[\"year\"]) >= 2014]"
   ]
  },
  {
   "cell_type": "markdown",
   "metadata": {
    "execution": {
     "iopub.execute_input": "2021-02-16T04:13:29.658290Z",
     "iopub.status.busy": "2021-02-16T04:13:29.658051Z",
     "iopub.status.idle": "2021-02-16T04:13:29.661934Z",
     "shell.execute_reply": "2021-02-16T04:13:29.660901Z",
     "shell.execute_reply.started": "2021-02-16T04:13:29.658248Z"
    }
   },
   "source": [
    "### Second split : Data for model building and cross validation"
   ]
  },
  {
   "cell_type": "code",
   "execution_count": 446,
   "metadata": {
    "execution": {
     "iopub.execute_input": "2021-02-16T05:26:39.391294Z",
     "iopub.status.busy": "2021-02-16T05:26:39.391025Z",
     "iopub.status.idle": "2021-02-16T05:26:39.399115Z",
     "shell.execute_reply": "2021-02-16T05:26:39.398383Z",
     "shell.execute_reply.started": "2021-02-16T05:26:39.391265Z"
    }
   },
   "outputs": [],
   "source": [
    "y_train2 = train2['views']\n",
    "X_train2 = train2.drop('views', axis = 1)\n",
    "\n",
    "y_test2 = test2['views']\n",
    "X_test2 = test2.drop('views', axis = 1)"
   ]
  },
  {
   "cell_type": "markdown",
   "metadata": {},
   "source": [
    "### Feature selection \n"
   ]
  },
  {
   "cell_type": "markdown",
   "metadata": {},
   "source": [
    "We now perform recursive feature elimination using random forest, and select top 35 features."
   ]
  },
  {
   "cell_type": "code",
   "execution_count": 379,
   "metadata": {
    "execution": {
     "iopub.execute_input": "2021-02-16T05:20:06.222354Z",
     "iopub.status.busy": "2021-02-16T05:20:06.222100Z",
     "iopub.status.idle": "2021-02-16T05:20:33.524627Z",
     "shell.execute_reply": "2021-02-16T05:20:33.523989Z",
     "shell.execute_reply.started": "2021-02-16T05:20:06.222325Z"
    }
   },
   "outputs": [],
   "source": [
    "from sklearn.feature_selection import RFE\n",
    "from sklearn.ensemble import RandomForestRegressor\n",
    "rf = RandomForestRegressor(random_state=42)\n",
    "model = RFE(rf, n_features_to_select=50)\n",
    "fit_model = model.fit(X_train2, y_train2)\n",
    "features = pd.DataFrame(list(zip(X_train2.columns,fit_model.ranking_)), columns = ['predictor','ranking'])"
   ]
  },
  {
   "cell_type": "code",
   "execution_count": 447,
   "metadata": {
    "execution": {
     "iopub.execute_input": "2021-02-16T05:26:44.255438Z",
     "iopub.status.busy": "2021-02-16T05:26:44.255177Z",
     "iopub.status.idle": "2021-02-16T05:26:44.262821Z",
     "shell.execute_reply": "2021-02-16T05:26:44.261912Z",
     "shell.execute_reply.started": "2021-02-16T05:26:44.255409Z"
    }
   },
   "outputs": [
    {
     "data": {
      "text/plain": [
       "['month_11',\n",
       " 'day_Wednesday',\n",
       " 'month_1',\n",
       " 'month_2',\n",
       " 'month_3',\n",
       " 'month_5',\n",
       " 'month_6',\n",
       " 'month_7',\n",
       " 'month_8',\n",
       " 'month_9',\n",
       " 'month_10',\n",
       " 'day_Tuesday',\n",
       " 'year_film_2004',\n",
       " 'day_film_Friday',\n",
       " 'day_film_Monday',\n",
       " 'day_film_Saturday',\n",
       " 'day_film_Sunday',\n",
       " 'day_film_Thurday',\n",
       " 'day_film_Tuesday',\n",
       " 'day_film_Wednesday',\n",
       " 'month_film_10',\n",
       " 'month_film_2',\n",
       " 'month_film_9',\n",
       " 'month_12',\n",
       " 'month_film_5']"
      ]
     },
     "execution_count": 447,
     "metadata": {},
     "output_type": "execute_result"
    }
   ],
   "source": [
    "chosen_features = features.sort_values(by = 'ranking').head(25)['predictor'].tolist()\n",
    "chosen_features"
   ]
  },
  {
   "cell_type": "code",
   "execution_count": 448,
   "metadata": {
    "execution": {
     "iopub.execute_input": "2021-02-16T05:26:44.584995Z",
     "iopub.status.busy": "2021-02-16T05:26:44.584681Z",
     "iopub.status.idle": "2021-02-16T05:26:44.590497Z",
     "shell.execute_reply": "2021-02-16T05:26:44.589738Z",
     "shell.execute_reply.started": "2021-02-16T05:26:44.584962Z"
    }
   },
   "outputs": [],
   "source": [
    "X_train2 = X_train2[chosen_features]\n",
    "X_test2 = X_test2[chosen_features]"
   ]
  },
  {
   "cell_type": "code",
   "execution_count": 449,
   "metadata": {
    "execution": {
     "iopub.execute_input": "2021-02-16T05:26:44.979438Z",
     "iopub.status.busy": "2021-02-16T05:26:44.979176Z",
     "iopub.status.idle": "2021-02-16T05:26:44.984212Z",
     "shell.execute_reply": "2021-02-16T05:26:44.983479Z",
     "shell.execute_reply.started": "2021-02-16T05:26:44.979409Z"
    }
   },
   "outputs": [
    {
     "data": {
      "text/plain": [
       "(1548, 25)"
      ]
     },
     "execution_count": 449,
     "metadata": {},
     "output_type": "execute_result"
    }
   ],
   "source": [
    "X_train2.shape"
   ]
  },
  {
   "cell_type": "code",
   "execution_count": 450,
   "metadata": {
    "execution": {
     "iopub.execute_input": "2021-02-16T05:26:45.339487Z",
     "iopub.status.busy": "2021-02-16T05:26:45.339198Z",
     "iopub.status.idle": "2021-02-16T05:26:45.344624Z",
     "shell.execute_reply": "2021-02-16T05:26:45.343783Z",
     "shell.execute_reply.started": "2021-02-16T05:26:45.339458Z"
    }
   },
   "outputs": [
    {
     "data": {
      "text/plain": [
       "(455, 25)"
      ]
     },
     "execution_count": 450,
     "metadata": {},
     "output_type": "execute_result"
    }
   ],
   "source": [
    "X_test2.shape"
   ]
  },
  {
   "cell_type": "markdown",
   "metadata": {},
   "source": [
    "### Scale Features"
   ]
  },
  {
   "cell_type": "code",
   "execution_count": 451,
   "metadata": {
    "execution": {
     "iopub.execute_input": "2021-02-16T05:26:45.918527Z",
     "iopub.status.busy": "2021-02-16T05:26:45.918151Z",
     "iopub.status.idle": "2021-02-16T05:26:45.931731Z",
     "shell.execute_reply": "2021-02-16T05:26:45.931116Z",
     "shell.execute_reply.started": "2021-02-16T05:26:45.918470Z"
    }
   },
   "outputs": [],
   "source": [
    "from sklearn.preprocessing import StandardScaler\n",
    "\n",
    "scaler = StandardScaler()\n",
    "X_train_scaled = scaler.fit_transform(X_train2)\n",
    "X_train2 = pd.DataFrame(X_train_scaled)\n",
    "\n",
    "X_test_scaled = scaler.transform(X_test2)\n",
    "X_test2 = pd.DataFrame(X_test_scaled)"
   ]
  },
  {
   "cell_type": "code",
   "execution_count": 452,
   "metadata": {
    "execution": {
     "iopub.execute_input": "2021-02-16T05:26:46.259303Z",
     "iopub.status.busy": "2021-02-16T05:26:46.258928Z",
     "iopub.status.idle": "2021-02-16T05:26:46.264654Z",
     "shell.execute_reply": "2021-02-16T05:26:46.263986Z",
     "shell.execute_reply.started": "2021-02-16T05:26:46.259270Z"
    }
   },
   "outputs": [
    {
     "data": {
      "text/plain": [
       "'\\ntrain_num = X_train2.drop([\"event_category\",\"day\",\"month\",\"day_film\",\"month_film\"], axis=1)\\ntrain_cat = X_train2[[\"event_category\",\"day\",\"month\",\"day_film\",\"month_film\"]]\\n\\ntest_num = X_test2.drop([\"event_category\",\"day\",\"month\",\"day_film\",\"month_film\"], axis=1)\\ntest_cat = X_test2[[\"event_category\",\"day\",\"month\",\"day_film\",\"month_film\"]]\\n\\n\\nfrom sklearn.preprocessing import OneHotEncoder\\ncat_encoder = OneHotEncoder()\\ncat_1hot_train = cat_encoder.fit_transform(train_cat)\\ncat_1hot_test = cat_encoder.fit_transform(test_cat)\\n\\ncat_1hot_train.toarray()\\ncat_1hot_test.toarray()\\n\\nfrom sklearn.pipeline import Pipeline\\nfrom sklearn.preprocessing import StandardScaler\\n\\nnum_pipeline = Pipeline([\\n        (\\'std_scaler\\', StandardScaler()),\\n    ])\\ntrain_num_tr = num_pipeline.fit_transform(train_num)\\ntest_num_tr = num_pipeline.fit_transform(test_num)\\n\\ntrain_num_tr\\ntest_num_tr\\n\\n\\nfrom sklearn.compose import ColumnTransformer\\n\\nnum_attribs_train = list(X_train2.drop([\"event_category\",\"day\",\"month\",\"day_film\",\"month_film\"], axis=1))\\nnum_attribs_test = list(X_test2.drop([\"event_category\",\"day\",\"month\",\"day_film\",\"month_film\"], axis=1))\\n\\ncat_attribs = [\"event_category\",\"day\",\"month\",\"day_film\",\"month_film\"]\\n\\nfull_pipeline = ColumnTransformer([\\n        (\"cat\", OneHotEncoder(), cat_attribs),\\n        (\"num\", num_pipeline, num_attribs_train),\\n    ])\\n\\nfull_pipeline = ColumnTransformer([\\n        (\"cat\", OneHotEncoder(), cat_attribs),\\n        (\"num\", num_pipeline, num_attribs_test),\\n    ])\\n\\ntrain_prepared = full_pipeline.fit_transform(X_train2)\\ntest_prepared = full_pipeline.fit_transform(X_test2)\\n\\n'"
      ]
     },
     "execution_count": 452,
     "metadata": {},
     "output_type": "execute_result"
    }
   ],
   "source": [
    "#This pipeline doesn't work well with the above steps, not sure how to do feature selection with it\n",
    "\n",
    "'''\n",
    "train_num = X_train2.drop([\"event_category\",\"day\",\"month\",\"day_film\",\"month_film\"], axis=1)\n",
    "train_cat = X_train2[[\"event_category\",\"day\",\"month\",\"day_film\",\"month_film\"]]\n",
    "\n",
    "test_num = X_test2.drop([\"event_category\",\"day\",\"month\",\"day_film\",\"month_film\"], axis=1)\n",
    "test_cat = X_test2[[\"event_category\",\"day\",\"month\",\"day_film\",\"month_film\"]]\n",
    "\n",
    "\n",
    "from sklearn.preprocessing import OneHotEncoder\n",
    "cat_encoder = OneHotEncoder()\n",
    "cat_1hot_train = cat_encoder.fit_transform(train_cat)\n",
    "cat_1hot_test = cat_encoder.fit_transform(test_cat)\n",
    "\n",
    "cat_1hot_train.toarray()\n",
    "cat_1hot_test.toarray()\n",
    "\n",
    "from sklearn.pipeline import Pipeline\n",
    "from sklearn.preprocessing import StandardScaler\n",
    "\n",
    "num_pipeline = Pipeline([\n",
    "        ('std_scaler', StandardScaler()),\n",
    "    ])\n",
    "train_num_tr = num_pipeline.fit_transform(train_num)\n",
    "test_num_tr = num_pipeline.fit_transform(test_num)\n",
    "\n",
    "train_num_tr\n",
    "test_num_tr\n",
    "\n",
    "\n",
    "from sklearn.compose import ColumnTransformer\n",
    "\n",
    "num_attribs_train = list(X_train2.drop([\"event_category\",\"day\",\"month\",\"day_film\",\"month_film\"], axis=1))\n",
    "num_attribs_test = list(X_test2.drop([\"event_category\",\"day\",\"month\",\"day_film\",\"month_film\"], axis=1))\n",
    "\n",
    "cat_attribs = [\"event_category\",\"day\",\"month\",\"day_film\",\"month_film\"]\n",
    "\n",
    "full_pipeline = ColumnTransformer([\n",
    "        (\"cat\", OneHotEncoder(), cat_attribs),\n",
    "        (\"num\", num_pipeline, num_attribs_train),\n",
    "    ])\n",
    "\n",
    "full_pipeline = ColumnTransformer([\n",
    "        (\"cat\", OneHotEncoder(), cat_attribs),\n",
    "        (\"num\", num_pipeline, num_attribs_test),\n",
    "    ])\n",
    "\n",
    "train_prepared = full_pipeline.fit_transform(X_train2)\n",
    "test_prepared = full_pipeline.fit_transform(X_test2)\n",
    "\n",
    "'''"
   ]
  },
  {
   "cell_type": "markdown",
   "metadata": {},
   "source": [
    "---"
   ]
  },
  {
   "cell_type": "markdown",
   "metadata": {},
   "source": [
    "# V - Select and train a model "
   ]
  },
  {
   "cell_type": "code",
   "execution_count": 453,
   "metadata": {
    "execution": {
     "iopub.execute_input": "2021-02-16T05:26:47.527249Z",
     "iopub.status.busy": "2021-02-16T05:26:47.526995Z",
     "iopub.status.idle": "2021-02-16T05:26:48.010116Z",
     "shell.execute_reply": "2021-02-16T05:26:48.009282Z",
     "shell.execute_reply.started": "2021-02-16T05:26:47.527221Z"
    }
   },
   "outputs": [
    {
     "name": "stdout",
     "output_type": "stream",
     "text": [
      "Model =  Linear Regression\n",
      "MSE:  3687398567404.987\n",
      "MAE:  1105397.9021369535\n",
      "-------------------\n",
      "Model =  RF regressor\n",
      "MSE:  4865622227974.369\n",
      "MAE:  1140824.535967151\n",
      "-------------------\n",
      "Model =  GBT\n",
      "MSE:  5766566648207.11\n",
      "MAE:  1022028.5070003431\n",
      "-------------------\n",
      "Model =  LASSO\n",
      "MSE:  3180278704942.826\n",
      "MAE:  922782.357674143\n",
      "-------------------\n",
      "Model =  Ridge\n",
      "MSE:  3179927879399.363\n",
      "MAE:  922654.0398170741\n",
      "-------------------\n"
     ]
    },
    {
     "name": "stderr",
     "output_type": "stream",
     "text": [
      "/opt/anaconda3/lib/python3.7/site-packages/sklearn/linear_model/_coordinate_descent.py:531: ConvergenceWarning: Objective did not converge. You might want to increase the number of iterations. Duality gap: 17365224916066.0, tolerance: 1337178816345.5298\n",
      "  positive)\n"
     ]
    }
   ],
   "source": [
    "#Import models' packages\n",
    "from sklearn.linear_model import LinearRegression\n",
    "from sklearn.ensemble import RandomForestRegressor\n",
    "from sklearn.ensemble import GradientBoostingRegressor\n",
    "from sklearn.linear_model import Lasso\n",
    "from sklearn.linear_model import Ridge\n",
    "from sklearn.metrics import mean_squared_error, mean_absolute_error\n",
    "\n",
    "\n",
    "#Regression Models\n",
    "regression_models = [['Linear Regression',LinearRegression()], \n",
    "                     ['RF regressor',RandomForestRegressor()], \n",
    "                     ['GBT',GradientBoostingRegressor()],\n",
    "                     ['LASSO', Lasso()],\n",
    "                     ['Ridge', Ridge()]]\n",
    "                     \n",
    "\n",
    "MSEs = []\n",
    "MAEs = []\n",
    "Models = ['Linear Regression', 'Random Forest Regressor', 'Gradient Boosting Regressor', 'Lasso', 'Ridge']\n",
    "\n",
    "for name, model in regression_models: \n",
    "    print('Model = ', name)\n",
    "    model.fit(X_train2, y_train2.values.ravel())\n",
    "    y_test_pred = model.predict(X_test2)\n",
    "    \n",
    "    MSE = mean_squared_error(y_test2, y_test_pred)\n",
    "    MAE = mean_absolute_error(y_test2, y_test_pred)\n",
    "    MSEs.append(MSE)\n",
    "    print(\"MSE: \", MSE)\n",
    "    print(\"MAE: \", MAE)\n",
    "    print(\"-\" * 19)"
   ]
  },
  {
   "cell_type": "code",
   "execution_count": 454,
   "metadata": {
    "execution": {
     "iopub.execute_input": "2021-02-16T05:26:55.816776Z",
     "iopub.status.busy": "2021-02-16T05:26:55.816528Z",
     "iopub.status.idle": "2021-02-16T05:26:55.821318Z",
     "shell.execute_reply": "2021-02-16T05:26:55.820619Z",
     "shell.execute_reply.started": "2021-02-16T05:26:55.816747Z"
    }
   },
   "outputs": [
    {
     "data": {
      "text/plain": [
       "1888806.4175824176"
      ]
     },
     "execution_count": 454,
     "metadata": {},
     "output_type": "execute_result"
    }
   ],
   "source": [
    "y_test2.mean()"
   ]
  },
  {
   "cell_type": "markdown",
   "metadata": {},
   "source": [
    "---"
   ]
  }
 ],
 "metadata": {
  "kernelspec": {
   "display_name": "Python 3",
   "language": "python",
   "name": "python3"
  },
  "language_info": {
   "codemirror_mode": {
    "name": "ipython",
    "version": 3
   },
   "file_extension": ".py",
   "mimetype": "text/x-python",
   "name": "python",
   "nbconvert_exporter": "python",
   "pygments_lexer": "ipython3",
   "version": "3.7.7"
  }
 },
 "nbformat": 4,
 "nbformat_minor": 4
}
